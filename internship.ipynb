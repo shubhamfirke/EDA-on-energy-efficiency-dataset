{
 "cells": [
  {
   "cell_type": "markdown",
   "id": "2ffa02a4",
   "metadata": {},
   "source": [
    "# EDA on energy efficiency dataset"
   ]
  },
  {
   "cell_type": "markdown",
   "id": "accfef9f",
   "metadata": {},
   "source": [
    "Importing libraries"
   ]
  },
  {
   "cell_type": "code",
   "execution_count": 1,
   "id": "85fafc19",
   "metadata": {},
   "outputs": [],
   "source": [
    "import pandas as pd\n",
    "import numpy as np\n",
    "import matplotlib.pyplot as plt\n",
    "%matplotlib inline\n",
    "import seaborn as sns\n",
    "import warnings\n",
    "warnings.filterwarnings('ignore')"
   ]
  },
  {
   "cell_type": "code",
   "execution_count": 2,
   "id": "438612a0",
   "metadata": {},
   "outputs": [],
   "source": [
    "df=pd.read_csv('ENB2012_data.csv',index_col=False)"
   ]
  },
  {
   "cell_type": "code",
   "execution_count": 3,
   "id": "1f23ec2f",
   "metadata": {},
   "outputs": [
    {
     "data": {
      "text/html": [
       "<div>\n",
       "<style scoped>\n",
       "    .dataframe tbody tr th:only-of-type {\n",
       "        vertical-align: middle;\n",
       "    }\n",
       "\n",
       "    .dataframe tbody tr th {\n",
       "        vertical-align: top;\n",
       "    }\n",
       "\n",
       "    .dataframe thead th {\n",
       "        text-align: right;\n",
       "    }\n",
       "</style>\n",
       "<table border=\"1\" class=\"dataframe\">\n",
       "  <thead>\n",
       "    <tr style=\"text-align: right;\">\n",
       "      <th></th>\n",
       "      <th>X1</th>\n",
       "      <th>X2</th>\n",
       "      <th>X3</th>\n",
       "      <th>X4</th>\n",
       "      <th>X5</th>\n",
       "      <th>X6</th>\n",
       "      <th>X7</th>\n",
       "      <th>X8</th>\n",
       "      <th>Y1</th>\n",
       "      <th>Y2</th>\n",
       "    </tr>\n",
       "  </thead>\n",
       "  <tbody>\n",
       "    <tr>\n",
       "      <th>0</th>\n",
       "      <td>0.98</td>\n",
       "      <td>514.5</td>\n",
       "      <td>294.0</td>\n",
       "      <td>110.25</td>\n",
       "      <td>7.0</td>\n",
       "      <td>2</td>\n",
       "      <td>0.0</td>\n",
       "      <td>0</td>\n",
       "      <td>15.55</td>\n",
       "      <td>21.33</td>\n",
       "    </tr>\n",
       "    <tr>\n",
       "      <th>1</th>\n",
       "      <td>0.98</td>\n",
       "      <td>514.5</td>\n",
       "      <td>294.0</td>\n",
       "      <td>110.25</td>\n",
       "      <td>7.0</td>\n",
       "      <td>3</td>\n",
       "      <td>0.0</td>\n",
       "      <td>0</td>\n",
       "      <td>15.55</td>\n",
       "      <td>21.33</td>\n",
       "    </tr>\n",
       "    <tr>\n",
       "      <th>2</th>\n",
       "      <td>0.98</td>\n",
       "      <td>514.5</td>\n",
       "      <td>294.0</td>\n",
       "      <td>110.25</td>\n",
       "      <td>7.0</td>\n",
       "      <td>4</td>\n",
       "      <td>0.0</td>\n",
       "      <td>0</td>\n",
       "      <td>15.55</td>\n",
       "      <td>21.33</td>\n",
       "    </tr>\n",
       "    <tr>\n",
       "      <th>3</th>\n",
       "      <td>0.98</td>\n",
       "      <td>514.5</td>\n",
       "      <td>294.0</td>\n",
       "      <td>110.25</td>\n",
       "      <td>7.0</td>\n",
       "      <td>5</td>\n",
       "      <td>0.0</td>\n",
       "      <td>0</td>\n",
       "      <td>15.55</td>\n",
       "      <td>21.33</td>\n",
       "    </tr>\n",
       "    <tr>\n",
       "      <th>4</th>\n",
       "      <td>0.90</td>\n",
       "      <td>563.5</td>\n",
       "      <td>318.5</td>\n",
       "      <td>122.50</td>\n",
       "      <td>7.0</td>\n",
       "      <td>2</td>\n",
       "      <td>0.0</td>\n",
       "      <td>0</td>\n",
       "      <td>20.84</td>\n",
       "      <td>28.28</td>\n",
       "    </tr>\n",
       "  </tbody>\n",
       "</table>\n",
       "</div>"
      ],
      "text/plain": [
       "     X1     X2     X3      X4   X5  X6   X7  X8     Y1     Y2\n",
       "0  0.98  514.5  294.0  110.25  7.0   2  0.0   0  15.55  21.33\n",
       "1  0.98  514.5  294.0  110.25  7.0   3  0.0   0  15.55  21.33\n",
       "2  0.98  514.5  294.0  110.25  7.0   4  0.0   0  15.55  21.33\n",
       "3  0.98  514.5  294.0  110.25  7.0   5  0.0   0  15.55  21.33\n",
       "4  0.90  563.5  318.5  122.50  7.0   2  0.0   0  20.84  28.28"
      ]
     },
     "execution_count": 3,
     "metadata": {},
     "output_type": "execute_result"
    }
   ],
   "source": [
    "df.head()"
   ]
  },
  {
   "cell_type": "code",
   "execution_count": 4,
   "id": "32f48a31",
   "metadata": {},
   "outputs": [
    {
     "name": "stdout",
     "output_type": "stream",
     "text": [
      "(768, 10)\n"
     ]
    }
   ],
   "source": [
    "print(df.shape)"
   ]
  },
  {
   "cell_type": "code",
   "execution_count": 5,
   "id": "d9c28622",
   "metadata": {},
   "outputs": [
    {
     "name": "stdout",
     "output_type": "stream",
     "text": [
      "<class 'pandas.core.frame.DataFrame'>\n",
      "RangeIndex: 768 entries, 0 to 767\n",
      "Data columns (total 10 columns):\n",
      " #   Column  Non-Null Count  Dtype  \n",
      "---  ------  --------------  -----  \n",
      " 0   X1      768 non-null    float64\n",
      " 1   X2      768 non-null    float64\n",
      " 2   X3      768 non-null    float64\n",
      " 3   X4      768 non-null    float64\n",
      " 4   X5      768 non-null    float64\n",
      " 5   X6      768 non-null    int64  \n",
      " 6   X7      768 non-null    float64\n",
      " 7   X8      768 non-null    int64  \n",
      " 8   Y1      768 non-null    float64\n",
      " 9   Y2      768 non-null    float64\n",
      "dtypes: float64(8), int64(2)\n",
      "memory usage: 60.1 KB\n"
     ]
    }
   ],
   "source": [
    "df.info()"
   ]
  },
  {
   "cell_type": "code",
   "execution_count": 6,
   "id": "71bbd992",
   "metadata": {},
   "outputs": [
    {
     "data": {
      "text/plain": [
       "X1    0\n",
       "X2    0\n",
       "X3    0\n",
       "X4    0\n",
       "X5    0\n",
       "X6    0\n",
       "X7    0\n",
       "X8    0\n",
       "Y1    0\n",
       "Y2    0\n",
       "dtype: int64"
      ]
     },
     "execution_count": 6,
     "metadata": {},
     "output_type": "execute_result"
    }
   ],
   "source": [
    "df.isnull().sum()"
   ]
  },
  {
   "cell_type": "code",
   "execution_count": 7,
   "id": "a4dbcd28",
   "metadata": {},
   "outputs": [],
   "source": [
    "df_class = df.copy()"
   ]
  },
  {
   "cell_type": "code",
   "execution_count": 8,
   "id": "32987cd2",
   "metadata": {},
   "outputs": [],
   "source": [
    "df_class.columns = [\n",
    "    'Relative Compactness',\n",
    "    'Surface Area',\n",
    "    'Wall Area',\n",
    "    'Roof Area',\n",
    "    'Overall Height',\n",
    "    'Orientation',\n",
    "    'Glazing Area',\n",
    "    'Glazing Area Distribution',\n",
    "    'Heating Load',\n",
    "    'Cooling Load',\n",
    "]"
   ]
  },
  {
   "cell_type": "code",
   "execution_count": 9,
   "id": "b99b4518",
   "metadata": {},
   "outputs": [
    {
     "data": {
      "text/html": [
       "<div>\n",
       "<style scoped>\n",
       "    .dataframe tbody tr th:only-of-type {\n",
       "        vertical-align: middle;\n",
       "    }\n",
       "\n",
       "    .dataframe tbody tr th {\n",
       "        vertical-align: top;\n",
       "    }\n",
       "\n",
       "    .dataframe thead th {\n",
       "        text-align: right;\n",
       "    }\n",
       "</style>\n",
       "<table border=\"1\" class=\"dataframe\">\n",
       "  <thead>\n",
       "    <tr style=\"text-align: right;\">\n",
       "      <th></th>\n",
       "      <th>Relative Compactness</th>\n",
       "      <th>Surface Area</th>\n",
       "      <th>Wall Area</th>\n",
       "      <th>Roof Area</th>\n",
       "      <th>Overall Height</th>\n",
       "      <th>Orientation</th>\n",
       "      <th>Glazing Area</th>\n",
       "      <th>Glazing Area Distribution</th>\n",
       "      <th>Heating Load</th>\n",
       "      <th>Cooling Load</th>\n",
       "    </tr>\n",
       "  </thead>\n",
       "  <tbody>\n",
       "    <tr>\n",
       "      <th>0</th>\n",
       "      <td>0.98</td>\n",
       "      <td>514.5</td>\n",
       "      <td>294.0</td>\n",
       "      <td>110.25</td>\n",
       "      <td>7.0</td>\n",
       "      <td>2</td>\n",
       "      <td>0.0</td>\n",
       "      <td>0</td>\n",
       "      <td>15.55</td>\n",
       "      <td>21.33</td>\n",
       "    </tr>\n",
       "    <tr>\n",
       "      <th>1</th>\n",
       "      <td>0.98</td>\n",
       "      <td>514.5</td>\n",
       "      <td>294.0</td>\n",
       "      <td>110.25</td>\n",
       "      <td>7.0</td>\n",
       "      <td>3</td>\n",
       "      <td>0.0</td>\n",
       "      <td>0</td>\n",
       "      <td>15.55</td>\n",
       "      <td>21.33</td>\n",
       "    </tr>\n",
       "    <tr>\n",
       "      <th>2</th>\n",
       "      <td>0.98</td>\n",
       "      <td>514.5</td>\n",
       "      <td>294.0</td>\n",
       "      <td>110.25</td>\n",
       "      <td>7.0</td>\n",
       "      <td>4</td>\n",
       "      <td>0.0</td>\n",
       "      <td>0</td>\n",
       "      <td>15.55</td>\n",
       "      <td>21.33</td>\n",
       "    </tr>\n",
       "    <tr>\n",
       "      <th>3</th>\n",
       "      <td>0.98</td>\n",
       "      <td>514.5</td>\n",
       "      <td>294.0</td>\n",
       "      <td>110.25</td>\n",
       "      <td>7.0</td>\n",
       "      <td>5</td>\n",
       "      <td>0.0</td>\n",
       "      <td>0</td>\n",
       "      <td>15.55</td>\n",
       "      <td>21.33</td>\n",
       "    </tr>\n",
       "    <tr>\n",
       "      <th>4</th>\n",
       "      <td>0.90</td>\n",
       "      <td>563.5</td>\n",
       "      <td>318.5</td>\n",
       "      <td>122.50</td>\n",
       "      <td>7.0</td>\n",
       "      <td>2</td>\n",
       "      <td>0.0</td>\n",
       "      <td>0</td>\n",
       "      <td>20.84</td>\n",
       "      <td>28.28</td>\n",
       "    </tr>\n",
       "  </tbody>\n",
       "</table>\n",
       "</div>"
      ],
      "text/plain": [
       "   Relative Compactness  Surface Area  Wall Area  Roof Area  Overall Height  \\\n",
       "0                  0.98         514.5      294.0     110.25             7.0   \n",
       "1                  0.98         514.5      294.0     110.25             7.0   \n",
       "2                  0.98         514.5      294.0     110.25             7.0   \n",
       "3                  0.98         514.5      294.0     110.25             7.0   \n",
       "4                  0.90         563.5      318.5     122.50             7.0   \n",
       "\n",
       "   Orientation  Glazing Area  Glazing Area Distribution  Heating Load  \\\n",
       "0            2           0.0                          0         15.55   \n",
       "1            3           0.0                          0         15.55   \n",
       "2            4           0.0                          0         15.55   \n",
       "3            5           0.0                          0         15.55   \n",
       "4            2           0.0                          0         20.84   \n",
       "\n",
       "   Cooling Load  \n",
       "0         21.33  \n",
       "1         21.33  \n",
       "2         21.33  \n",
       "3         21.33  \n",
       "4         28.28  "
      ]
     },
     "execution_count": 9,
     "metadata": {},
     "output_type": "execute_result"
    }
   ],
   "source": [
    "df_class.head()"
   ]
  },
  {
   "cell_type": "code",
   "execution_count": 10,
   "id": "dba25c72",
   "metadata": {},
   "outputs": [],
   "source": [
    "df_class.columns = df_class.columns.str.lower().str.replace(' ', '_')\n"
   ]
  },
  {
   "cell_type": "code",
   "execution_count": 11,
   "id": "6c6d780a",
   "metadata": {},
   "outputs": [
    {
     "data": {
      "text/html": [
       "<style type=\"text/css\">\n",
       "#T_7c69a_row0_col0, #T_7c69a_row0_col4, #T_7c69a_row1_col0, #T_7c69a_row1_col4, #T_7c69a_row2_col0, #T_7c69a_row2_col4, #T_7c69a_row3_col0, #T_7c69a_row3_col4, #T_7c69a_row3_col5, #T_7c69a_row4_col4, #T_7c69a_row5_col4, #T_7c69a_row6_col4, #T_7c69a_row7_col4, #T_7c69a_row7_col5, #T_7c69a_row8_col4, #T_7c69a_row9_col4, #T_7c69a_row10_col4, #T_7c69a_row11_col4, #T_7c69a_row11_col5, #T_7c69a_row12_col4, #T_7c69a_row13_col4, #T_7c69a_row14_col4, #T_7c69a_row15_col4, #T_7c69a_row15_col5, #T_7c69a_row16_col4, #T_7c69a_row17_col4, #T_7c69a_row17_col8, #T_7c69a_row18_col4, #T_7c69a_row19_col4, #T_7c69a_row19_col5, #T_7c69a_row19_col9, #T_7c69a_row20_col2, #T_7c69a_row20_col4, #T_7c69a_row21_col2, #T_7c69a_row21_col4, #T_7c69a_row22_col2, #T_7c69a_row22_col4, #T_7c69a_row23_col2, #T_7c69a_row23_col4, #T_7c69a_row23_col5, #T_7c69a_row24_col1, #T_7c69a_row24_col3 {\n",
       "  background-color: #023858;\n",
       "  color: #f1f1f1;\n",
       "}\n",
       "#T_7c69a_row0_col1, #T_7c69a_row0_col3, #T_7c69a_row0_col5, #T_7c69a_row0_col6, #T_7c69a_row0_col7, #T_7c69a_row1_col1, #T_7c69a_row1_col3, #T_7c69a_row1_col6, #T_7c69a_row1_col7, #T_7c69a_row2_col1, #T_7c69a_row2_col3, #T_7c69a_row2_col6, #T_7c69a_row2_col7, #T_7c69a_row3_col1, #T_7c69a_row3_col3, #T_7c69a_row3_col6, #T_7c69a_row3_col7, #T_7c69a_row4_col5, #T_7c69a_row4_col6, #T_7c69a_row4_col7, #T_7c69a_row5_col6, #T_7c69a_row5_col7, #T_7c69a_row6_col6, #T_7c69a_row6_col7, #T_7c69a_row7_col6, #T_7c69a_row7_col7, #T_7c69a_row8_col5, #T_7c69a_row8_col6, #T_7c69a_row8_col7, #T_7c69a_row9_col6, #T_7c69a_row9_col7, #T_7c69a_row10_col6, #T_7c69a_row10_col7, #T_7c69a_row11_col6, #T_7c69a_row11_col7, #T_7c69a_row12_col5, #T_7c69a_row12_col6, #T_7c69a_row12_col7, #T_7c69a_row13_col6, #T_7c69a_row13_col7, #T_7c69a_row14_col6, #T_7c69a_row14_col7, #T_7c69a_row15_col6, #T_7c69a_row15_col7, #T_7c69a_row16_col5, #T_7c69a_row16_col6, #T_7c69a_row16_col7, #T_7c69a_row17_col6, #T_7c69a_row17_col7, #T_7c69a_row18_col6, #T_7c69a_row18_col7, #T_7c69a_row19_col6, #T_7c69a_row19_col7, #T_7c69a_row20_col5, #T_7c69a_row20_col6, #T_7c69a_row20_col7, #T_7c69a_row21_col6, #T_7c69a_row21_col7, #T_7c69a_row22_col6, #T_7c69a_row22_col7, #T_7c69a_row23_col6, #T_7c69a_row23_col7, #T_7c69a_row24_col0, #T_7c69a_row24_col2, #T_7c69a_row24_col4, #T_7c69a_row24_col5, #T_7c69a_row24_col6, #T_7c69a_row24_col7, #T_7c69a_row24_col8, #T_7c69a_row24_col9 {\n",
       "  background-color: #fff7fb;\n",
       "  color: #000000;\n",
       "}\n",
       "#T_7c69a_row0_col2, #T_7c69a_row1_col2, #T_7c69a_row2_col2, #T_7c69a_row3_col2, #T_7c69a_row4_col1, #T_7c69a_row5_col1, #T_7c69a_row6_col1, #T_7c69a_row7_col1, #T_7c69a_row8_col2, #T_7c69a_row9_col2, #T_7c69a_row10_col2, #T_7c69a_row11_col2 {\n",
       "  background-color: #c4cbe3;\n",
       "  color: #000000;\n",
       "}\n",
       "#T_7c69a_row0_col8, #T_7c69a_row1_col8, #T_7c69a_row2_col8, #T_7c69a_row3_col8 {\n",
       "  background-color: #9ebad9;\n",
       "  color: #000000;\n",
       "}\n",
       "#T_7c69a_row0_col9, #T_7c69a_row1_col9, #T_7c69a_row2_col9, #T_7c69a_row3_col9 {\n",
       "  background-color: #a9bfdc;\n",
       "  color: #000000;\n",
       "}\n",
       "#T_7c69a_row1_col5, #T_7c69a_row5_col5, #T_7c69a_row8_col3, #T_7c69a_row9_col3, #T_7c69a_row9_col5, #T_7c69a_row10_col3, #T_7c69a_row11_col3, #T_7c69a_row12_col0, #T_7c69a_row12_col3, #T_7c69a_row13_col0, #T_7c69a_row13_col3, #T_7c69a_row13_col5, #T_7c69a_row14_col0, #T_7c69a_row14_col3, #T_7c69a_row15_col0, #T_7c69a_row15_col3, #T_7c69a_row16_col3, #T_7c69a_row17_col3, #T_7c69a_row17_col5, #T_7c69a_row18_col3, #T_7c69a_row19_col3, #T_7c69a_row21_col5 {\n",
       "  background-color: #b4c4df;\n",
       "  color: #000000;\n",
       "}\n",
       "#T_7c69a_row2_col5, #T_7c69a_row4_col0, #T_7c69a_row5_col0, #T_7c69a_row6_col0, #T_7c69a_row6_col5, #T_7c69a_row7_col0, #T_7c69a_row10_col5, #T_7c69a_row14_col5, #T_7c69a_row18_col5, #T_7c69a_row22_col5 {\n",
       "  background-color: #2685bb;\n",
       "  color: #f1f1f1;\n",
       "}\n",
       "#T_7c69a_row4_col2, #T_7c69a_row5_col2, #T_7c69a_row6_col2, #T_7c69a_row7_col2, #T_7c69a_row8_col1, #T_7c69a_row9_col1, #T_7c69a_row10_col1, #T_7c69a_row11_col1, #T_7c69a_row12_col2, #T_7c69a_row13_col2, #T_7c69a_row14_col2, #T_7c69a_row15_col2 {\n",
       "  background-color: #91b5d6;\n",
       "  color: #000000;\n",
       "}\n",
       "#T_7c69a_row4_col3, #T_7c69a_row5_col3, #T_7c69a_row6_col3, #T_7c69a_row7_col3, #T_7c69a_row20_col3, #T_7c69a_row21_col3, #T_7c69a_row22_col3, #T_7c69a_row23_col3 {\n",
       "  background-color: #eee9f3;\n",
       "  color: #000000;\n",
       "}\n",
       "#T_7c69a_row4_col8 {\n",
       "  background-color: #3991c1;\n",
       "  color: #f1f1f1;\n",
       "}\n",
       "#T_7c69a_row4_col9 {\n",
       "  background-color: #3f93c2;\n",
       "  color: #f1f1f1;\n",
       "}\n",
       "#T_7c69a_row5_col8, #T_7c69a_row23_col9 {\n",
       "  background-color: #2d8abd;\n",
       "  color: #f1f1f1;\n",
       "}\n",
       "#T_7c69a_row5_col9 {\n",
       "  background-color: #71a8ce;\n",
       "  color: #f1f1f1;\n",
       "}\n",
       "#T_7c69a_row6_col8 {\n",
       "  background-color: #3b92c1;\n",
       "  color: #f1f1f1;\n",
       "}\n",
       "#T_7c69a_row6_col9 {\n",
       "  background-color: #75a9cf;\n",
       "  color: #f1f1f1;\n",
       "}\n",
       "#T_7c69a_row7_col8, #T_7c69a_row12_col1, #T_7c69a_row13_col1, #T_7c69a_row14_col1, #T_7c69a_row15_col1, #T_7c69a_row16_col2, #T_7c69a_row17_col2, #T_7c69a_row18_col2, #T_7c69a_row19_col2 {\n",
       "  background-color: #509ac6;\n",
       "  color: #f1f1f1;\n",
       "}\n",
       "#T_7c69a_row7_col9 {\n",
       "  background-color: #2a88bc;\n",
       "  color: #f1f1f1;\n",
       "}\n",
       "#T_7c69a_row8_col0, #T_7c69a_row9_col0, #T_7c69a_row10_col0, #T_7c69a_row11_col0 {\n",
       "  background-color: #73a9cf;\n",
       "  color: #f1f1f1;\n",
       "}\n",
       "#T_7c69a_row8_col8 {\n",
       "  background-color: #549cc7;\n",
       "  color: #f1f1f1;\n",
       "}\n",
       "#T_7c69a_row8_col9 {\n",
       "  background-color: #4e9ac6;\n",
       "  color: #f1f1f1;\n",
       "}\n",
       "#T_7c69a_row9_col8 {\n",
       "  background-color: #4a98c5;\n",
       "  color: #f1f1f1;\n",
       "}\n",
       "#T_7c69a_row9_col9 {\n",
       "  background-color: #a1bbda;\n",
       "  color: #000000;\n",
       "}\n",
       "#T_7c69a_row10_col8 {\n",
       "  background-color: #589ec8;\n",
       "  color: #f1f1f1;\n",
       "}\n",
       "#T_7c69a_row10_col9 {\n",
       "  background-color: #8cb3d5;\n",
       "  color: #000000;\n",
       "}\n",
       "#T_7c69a_row11_col8 {\n",
       "  background-color: #6da6cd;\n",
       "  color: #f1f1f1;\n",
       "}\n",
       "#T_7c69a_row11_col9 {\n",
       "  background-color: #4496c3;\n",
       "  color: #f1f1f1;\n",
       "}\n",
       "#T_7c69a_row12_col8 {\n",
       "  background-color: #84b0d3;\n",
       "  color: #f1f1f1;\n",
       "}\n",
       "#T_7c69a_row12_col9 {\n",
       "  background-color: #88b1d4;\n",
       "  color: #000000;\n",
       "}\n",
       "#T_7c69a_row13_col8 {\n",
       "  background-color: #7eadd1;\n",
       "  color: #f1f1f1;\n",
       "}\n",
       "#T_7c69a_row13_col9 {\n",
       "  background-color: #a8bedc;\n",
       "  color: #000000;\n",
       "}\n",
       "#T_7c69a_row14_col8 {\n",
       "  background-color: #86b0d3;\n",
       "  color: #000000;\n",
       "}\n",
       "#T_7c69a_row14_col9 {\n",
       "  background-color: #abbfdc;\n",
       "  color: #000000;\n",
       "}\n",
       "#T_7c69a_row15_col8 {\n",
       "  background-color: #96b6d7;\n",
       "  color: #000000;\n",
       "}\n",
       "#T_7c69a_row15_col9 {\n",
       "  background-color: #78abd0;\n",
       "  color: #f1f1f1;\n",
       "}\n",
       "#T_7c69a_row16_col0, #T_7c69a_row17_col0, #T_7c69a_row18_col0, #T_7c69a_row19_col0 {\n",
       "  background-color: #d9d8ea;\n",
       "  color: #000000;\n",
       "}\n",
       "#T_7c69a_row16_col1, #T_7c69a_row17_col1, #T_7c69a_row17_col9, #T_7c69a_row18_col1, #T_7c69a_row19_col1 {\n",
       "  background-color: #1379b5;\n",
       "  color: #f1f1f1;\n",
       "}\n",
       "#T_7c69a_row16_col8 {\n",
       "  background-color: #03476f;\n",
       "  color: #f1f1f1;\n",
       "}\n",
       "#T_7c69a_row16_col9 {\n",
       "  background-color: #034871;\n",
       "  color: #f1f1f1;\n",
       "}\n",
       "#T_7c69a_row18_col8 {\n",
       "  background-color: #023a5b;\n",
       "  color: #f1f1f1;\n",
       "}\n",
       "#T_7c69a_row18_col9 {\n",
       "  background-color: #187cb6;\n",
       "  color: #f1f1f1;\n",
       "}\n",
       "#T_7c69a_row19_col8 {\n",
       "  background-color: #03456c;\n",
       "  color: #f1f1f1;\n",
       "}\n",
       "#T_7c69a_row20_col0, #T_7c69a_row21_col0, #T_7c69a_row22_col0, #T_7c69a_row23_col0 {\n",
       "  background-color: #f2ecf5;\n",
       "  color: #000000;\n",
       "}\n",
       "#T_7c69a_row20_col1, #T_7c69a_row21_col1, #T_7c69a_row22_col1, #T_7c69a_row23_col1 {\n",
       "  background-color: #045d92;\n",
       "  color: #f1f1f1;\n",
       "}\n",
       "#T_7c69a_row20_col8, #T_7c69a_row22_col8 {\n",
       "  background-color: #056aa6;\n",
       "  color: #f1f1f1;\n",
       "}\n",
       "#T_7c69a_row20_col9, #T_7c69a_row22_col9 {\n",
       "  background-color: #2786bb;\n",
       "  color: #f1f1f1;\n",
       "}\n",
       "#T_7c69a_row21_col8, #T_7c69a_row23_col8 {\n",
       "  background-color: #0570b0;\n",
       "  color: #f1f1f1;\n",
       "}\n",
       "#T_7c69a_row21_col9 {\n",
       "  background-color: #2987bc;\n",
       "  color: #f1f1f1;\n",
       "}\n",
       "</style>\n",
       "<table id=\"T_7c69a\">\n",
       "  <thead>\n",
       "    <tr>\n",
       "      <th class=\"blank level0\" >&nbsp;</th>\n",
       "      <th id=\"T_7c69a_level0_col0\" class=\"col_heading level0 col0\" >relative_compactness</th>\n",
       "      <th id=\"T_7c69a_level0_col1\" class=\"col_heading level0 col1\" >surface_area</th>\n",
       "      <th id=\"T_7c69a_level0_col2\" class=\"col_heading level0 col2\" >wall_area</th>\n",
       "      <th id=\"T_7c69a_level0_col3\" class=\"col_heading level0 col3\" >roof_area</th>\n",
       "      <th id=\"T_7c69a_level0_col4\" class=\"col_heading level0 col4\" >overall_height</th>\n",
       "      <th id=\"T_7c69a_level0_col5\" class=\"col_heading level0 col5\" >orientation</th>\n",
       "      <th id=\"T_7c69a_level0_col6\" class=\"col_heading level0 col6\" >glazing_area</th>\n",
       "      <th id=\"T_7c69a_level0_col7\" class=\"col_heading level0 col7\" >glazing_area_distribution</th>\n",
       "      <th id=\"T_7c69a_level0_col8\" class=\"col_heading level0 col8\" >heating_load</th>\n",
       "      <th id=\"T_7c69a_level0_col9\" class=\"col_heading level0 col9\" >cooling_load</th>\n",
       "    </tr>\n",
       "  </thead>\n",
       "  <tbody>\n",
       "    <tr>\n",
       "      <th id=\"T_7c69a_level0_row0\" class=\"row_heading level0 row0\" >0</th>\n",
       "      <td id=\"T_7c69a_row0_col0\" class=\"data row0 col0\" >0.980000</td>\n",
       "      <td id=\"T_7c69a_row0_col1\" class=\"data row0 col1\" >514.500000</td>\n",
       "      <td id=\"T_7c69a_row0_col2\" class=\"data row0 col2\" >294.000000</td>\n",
       "      <td id=\"T_7c69a_row0_col3\" class=\"data row0 col3\" >110.250000</td>\n",
       "      <td id=\"T_7c69a_row0_col4\" class=\"data row0 col4\" >7.000000</td>\n",
       "      <td id=\"T_7c69a_row0_col5\" class=\"data row0 col5\" >2</td>\n",
       "      <td id=\"T_7c69a_row0_col6\" class=\"data row0 col6\" >0.000000</td>\n",
       "      <td id=\"T_7c69a_row0_col7\" class=\"data row0 col7\" >0</td>\n",
       "      <td id=\"T_7c69a_row0_col8\" class=\"data row0 col8\" >15.550000</td>\n",
       "      <td id=\"T_7c69a_row0_col9\" class=\"data row0 col9\" >21.330000</td>\n",
       "    </tr>\n",
       "    <tr>\n",
       "      <th id=\"T_7c69a_level0_row1\" class=\"row_heading level0 row1\" >1</th>\n",
       "      <td id=\"T_7c69a_row1_col0\" class=\"data row1 col0\" >0.980000</td>\n",
       "      <td id=\"T_7c69a_row1_col1\" class=\"data row1 col1\" >514.500000</td>\n",
       "      <td id=\"T_7c69a_row1_col2\" class=\"data row1 col2\" >294.000000</td>\n",
       "      <td id=\"T_7c69a_row1_col3\" class=\"data row1 col3\" >110.250000</td>\n",
       "      <td id=\"T_7c69a_row1_col4\" class=\"data row1 col4\" >7.000000</td>\n",
       "      <td id=\"T_7c69a_row1_col5\" class=\"data row1 col5\" >3</td>\n",
       "      <td id=\"T_7c69a_row1_col6\" class=\"data row1 col6\" >0.000000</td>\n",
       "      <td id=\"T_7c69a_row1_col7\" class=\"data row1 col7\" >0</td>\n",
       "      <td id=\"T_7c69a_row1_col8\" class=\"data row1 col8\" >15.550000</td>\n",
       "      <td id=\"T_7c69a_row1_col9\" class=\"data row1 col9\" >21.330000</td>\n",
       "    </tr>\n",
       "    <tr>\n",
       "      <th id=\"T_7c69a_level0_row2\" class=\"row_heading level0 row2\" >2</th>\n",
       "      <td id=\"T_7c69a_row2_col0\" class=\"data row2 col0\" >0.980000</td>\n",
       "      <td id=\"T_7c69a_row2_col1\" class=\"data row2 col1\" >514.500000</td>\n",
       "      <td id=\"T_7c69a_row2_col2\" class=\"data row2 col2\" >294.000000</td>\n",
       "      <td id=\"T_7c69a_row2_col3\" class=\"data row2 col3\" >110.250000</td>\n",
       "      <td id=\"T_7c69a_row2_col4\" class=\"data row2 col4\" >7.000000</td>\n",
       "      <td id=\"T_7c69a_row2_col5\" class=\"data row2 col5\" >4</td>\n",
       "      <td id=\"T_7c69a_row2_col6\" class=\"data row2 col6\" >0.000000</td>\n",
       "      <td id=\"T_7c69a_row2_col7\" class=\"data row2 col7\" >0</td>\n",
       "      <td id=\"T_7c69a_row2_col8\" class=\"data row2 col8\" >15.550000</td>\n",
       "      <td id=\"T_7c69a_row2_col9\" class=\"data row2 col9\" >21.330000</td>\n",
       "    </tr>\n",
       "    <tr>\n",
       "      <th id=\"T_7c69a_level0_row3\" class=\"row_heading level0 row3\" >3</th>\n",
       "      <td id=\"T_7c69a_row3_col0\" class=\"data row3 col0\" >0.980000</td>\n",
       "      <td id=\"T_7c69a_row3_col1\" class=\"data row3 col1\" >514.500000</td>\n",
       "      <td id=\"T_7c69a_row3_col2\" class=\"data row3 col2\" >294.000000</td>\n",
       "      <td id=\"T_7c69a_row3_col3\" class=\"data row3 col3\" >110.250000</td>\n",
       "      <td id=\"T_7c69a_row3_col4\" class=\"data row3 col4\" >7.000000</td>\n",
       "      <td id=\"T_7c69a_row3_col5\" class=\"data row3 col5\" >5</td>\n",
       "      <td id=\"T_7c69a_row3_col6\" class=\"data row3 col6\" >0.000000</td>\n",
       "      <td id=\"T_7c69a_row3_col7\" class=\"data row3 col7\" >0</td>\n",
       "      <td id=\"T_7c69a_row3_col8\" class=\"data row3 col8\" >15.550000</td>\n",
       "      <td id=\"T_7c69a_row3_col9\" class=\"data row3 col9\" >21.330000</td>\n",
       "    </tr>\n",
       "    <tr>\n",
       "      <th id=\"T_7c69a_level0_row4\" class=\"row_heading level0 row4\" >4</th>\n",
       "      <td id=\"T_7c69a_row4_col0\" class=\"data row4 col0\" >0.900000</td>\n",
       "      <td id=\"T_7c69a_row4_col1\" class=\"data row4 col1\" >563.500000</td>\n",
       "      <td id=\"T_7c69a_row4_col2\" class=\"data row4 col2\" >318.500000</td>\n",
       "      <td id=\"T_7c69a_row4_col3\" class=\"data row4 col3\" >122.500000</td>\n",
       "      <td id=\"T_7c69a_row4_col4\" class=\"data row4 col4\" >7.000000</td>\n",
       "      <td id=\"T_7c69a_row4_col5\" class=\"data row4 col5\" >2</td>\n",
       "      <td id=\"T_7c69a_row4_col6\" class=\"data row4 col6\" >0.000000</td>\n",
       "      <td id=\"T_7c69a_row4_col7\" class=\"data row4 col7\" >0</td>\n",
       "      <td id=\"T_7c69a_row4_col8\" class=\"data row4 col8\" >20.840000</td>\n",
       "      <td id=\"T_7c69a_row4_col9\" class=\"data row4 col9\" >28.280000</td>\n",
       "    </tr>\n",
       "    <tr>\n",
       "      <th id=\"T_7c69a_level0_row5\" class=\"row_heading level0 row5\" >5</th>\n",
       "      <td id=\"T_7c69a_row5_col0\" class=\"data row5 col0\" >0.900000</td>\n",
       "      <td id=\"T_7c69a_row5_col1\" class=\"data row5 col1\" >563.500000</td>\n",
       "      <td id=\"T_7c69a_row5_col2\" class=\"data row5 col2\" >318.500000</td>\n",
       "      <td id=\"T_7c69a_row5_col3\" class=\"data row5 col3\" >122.500000</td>\n",
       "      <td id=\"T_7c69a_row5_col4\" class=\"data row5 col4\" >7.000000</td>\n",
       "      <td id=\"T_7c69a_row5_col5\" class=\"data row5 col5\" >3</td>\n",
       "      <td id=\"T_7c69a_row5_col6\" class=\"data row5 col6\" >0.000000</td>\n",
       "      <td id=\"T_7c69a_row5_col7\" class=\"data row5 col7\" >0</td>\n",
       "      <td id=\"T_7c69a_row5_col8\" class=\"data row5 col8\" >21.460000</td>\n",
       "      <td id=\"T_7c69a_row5_col9\" class=\"data row5 col9\" >25.380000</td>\n",
       "    </tr>\n",
       "    <tr>\n",
       "      <th id=\"T_7c69a_level0_row6\" class=\"row_heading level0 row6\" >6</th>\n",
       "      <td id=\"T_7c69a_row6_col0\" class=\"data row6 col0\" >0.900000</td>\n",
       "      <td id=\"T_7c69a_row6_col1\" class=\"data row6 col1\" >563.500000</td>\n",
       "      <td id=\"T_7c69a_row6_col2\" class=\"data row6 col2\" >318.500000</td>\n",
       "      <td id=\"T_7c69a_row6_col3\" class=\"data row6 col3\" >122.500000</td>\n",
       "      <td id=\"T_7c69a_row6_col4\" class=\"data row6 col4\" >7.000000</td>\n",
       "      <td id=\"T_7c69a_row6_col5\" class=\"data row6 col5\" >4</td>\n",
       "      <td id=\"T_7c69a_row6_col6\" class=\"data row6 col6\" >0.000000</td>\n",
       "      <td id=\"T_7c69a_row6_col7\" class=\"data row6 col7\" >0</td>\n",
       "      <td id=\"T_7c69a_row6_col8\" class=\"data row6 col8\" >20.710000</td>\n",
       "      <td id=\"T_7c69a_row6_col9\" class=\"data row6 col9\" >25.160000</td>\n",
       "    </tr>\n",
       "    <tr>\n",
       "      <th id=\"T_7c69a_level0_row7\" class=\"row_heading level0 row7\" >7</th>\n",
       "      <td id=\"T_7c69a_row7_col0\" class=\"data row7 col0\" >0.900000</td>\n",
       "      <td id=\"T_7c69a_row7_col1\" class=\"data row7 col1\" >563.500000</td>\n",
       "      <td id=\"T_7c69a_row7_col2\" class=\"data row7 col2\" >318.500000</td>\n",
       "      <td id=\"T_7c69a_row7_col3\" class=\"data row7 col3\" >122.500000</td>\n",
       "      <td id=\"T_7c69a_row7_col4\" class=\"data row7 col4\" >7.000000</td>\n",
       "      <td id=\"T_7c69a_row7_col5\" class=\"data row7 col5\" >5</td>\n",
       "      <td id=\"T_7c69a_row7_col6\" class=\"data row7 col6\" >0.000000</td>\n",
       "      <td id=\"T_7c69a_row7_col7\" class=\"data row7 col7\" >0</td>\n",
       "      <td id=\"T_7c69a_row7_col8\" class=\"data row7 col8\" >19.680000</td>\n",
       "      <td id=\"T_7c69a_row7_col9\" class=\"data row7 col9\" >29.600000</td>\n",
       "    </tr>\n",
       "    <tr>\n",
       "      <th id=\"T_7c69a_level0_row8\" class=\"row_heading level0 row8\" >8</th>\n",
       "      <td id=\"T_7c69a_row8_col0\" class=\"data row8 col0\" >0.860000</td>\n",
       "      <td id=\"T_7c69a_row8_col1\" class=\"data row8 col1\" >588.000000</td>\n",
       "      <td id=\"T_7c69a_row8_col2\" class=\"data row8 col2\" >294.000000</td>\n",
       "      <td id=\"T_7c69a_row8_col3\" class=\"data row8 col3\" >147.000000</td>\n",
       "      <td id=\"T_7c69a_row8_col4\" class=\"data row8 col4\" >7.000000</td>\n",
       "      <td id=\"T_7c69a_row8_col5\" class=\"data row8 col5\" >2</td>\n",
       "      <td id=\"T_7c69a_row8_col6\" class=\"data row8 col6\" >0.000000</td>\n",
       "      <td id=\"T_7c69a_row8_col7\" class=\"data row8 col7\" >0</td>\n",
       "      <td id=\"T_7c69a_row8_col8\" class=\"data row8 col8\" >19.500000</td>\n",
       "      <td id=\"T_7c69a_row8_col9\" class=\"data row8 col9\" >27.300000</td>\n",
       "    </tr>\n",
       "    <tr>\n",
       "      <th id=\"T_7c69a_level0_row9\" class=\"row_heading level0 row9\" >9</th>\n",
       "      <td id=\"T_7c69a_row9_col0\" class=\"data row9 col0\" >0.860000</td>\n",
       "      <td id=\"T_7c69a_row9_col1\" class=\"data row9 col1\" >588.000000</td>\n",
       "      <td id=\"T_7c69a_row9_col2\" class=\"data row9 col2\" >294.000000</td>\n",
       "      <td id=\"T_7c69a_row9_col3\" class=\"data row9 col3\" >147.000000</td>\n",
       "      <td id=\"T_7c69a_row9_col4\" class=\"data row9 col4\" >7.000000</td>\n",
       "      <td id=\"T_7c69a_row9_col5\" class=\"data row9 col5\" >3</td>\n",
       "      <td id=\"T_7c69a_row9_col6\" class=\"data row9 col6\" >0.000000</td>\n",
       "      <td id=\"T_7c69a_row9_col7\" class=\"data row9 col7\" >0</td>\n",
       "      <td id=\"T_7c69a_row9_col8\" class=\"data row9 col8\" >19.950000</td>\n",
       "      <td id=\"T_7c69a_row9_col9\" class=\"data row9 col9\" >21.970000</td>\n",
       "    </tr>\n",
       "    <tr>\n",
       "      <th id=\"T_7c69a_level0_row10\" class=\"row_heading level0 row10\" >10</th>\n",
       "      <td id=\"T_7c69a_row10_col0\" class=\"data row10 col0\" >0.860000</td>\n",
       "      <td id=\"T_7c69a_row10_col1\" class=\"data row10 col1\" >588.000000</td>\n",
       "      <td id=\"T_7c69a_row10_col2\" class=\"data row10 col2\" >294.000000</td>\n",
       "      <td id=\"T_7c69a_row10_col3\" class=\"data row10 col3\" >147.000000</td>\n",
       "      <td id=\"T_7c69a_row10_col4\" class=\"data row10 col4\" >7.000000</td>\n",
       "      <td id=\"T_7c69a_row10_col5\" class=\"data row10 col5\" >4</td>\n",
       "      <td id=\"T_7c69a_row10_col6\" class=\"data row10 col6\" >0.000000</td>\n",
       "      <td id=\"T_7c69a_row10_col7\" class=\"data row10 col7\" >0</td>\n",
       "      <td id=\"T_7c69a_row10_col8\" class=\"data row10 col8\" >19.340000</td>\n",
       "      <td id=\"T_7c69a_row10_col9\" class=\"data row10 col9\" >23.490000</td>\n",
       "    </tr>\n",
       "    <tr>\n",
       "      <th id=\"T_7c69a_level0_row11\" class=\"row_heading level0 row11\" >11</th>\n",
       "      <td id=\"T_7c69a_row11_col0\" class=\"data row11 col0\" >0.860000</td>\n",
       "      <td id=\"T_7c69a_row11_col1\" class=\"data row11 col1\" >588.000000</td>\n",
       "      <td id=\"T_7c69a_row11_col2\" class=\"data row11 col2\" >294.000000</td>\n",
       "      <td id=\"T_7c69a_row11_col3\" class=\"data row11 col3\" >147.000000</td>\n",
       "      <td id=\"T_7c69a_row11_col4\" class=\"data row11 col4\" >7.000000</td>\n",
       "      <td id=\"T_7c69a_row11_col5\" class=\"data row11 col5\" >5</td>\n",
       "      <td id=\"T_7c69a_row11_col6\" class=\"data row11 col6\" >0.000000</td>\n",
       "      <td id=\"T_7c69a_row11_col7\" class=\"data row11 col7\" >0</td>\n",
       "      <td id=\"T_7c69a_row11_col8\" class=\"data row11 col8\" >18.310000</td>\n",
       "      <td id=\"T_7c69a_row11_col9\" class=\"data row11 col9\" >27.870000</td>\n",
       "    </tr>\n",
       "    <tr>\n",
       "      <th id=\"T_7c69a_level0_row12\" class=\"row_heading level0 row12\" >12</th>\n",
       "      <td id=\"T_7c69a_row12_col0\" class=\"data row12 col0\" >0.820000</td>\n",
       "      <td id=\"T_7c69a_row12_col1\" class=\"data row12 col1\" >612.500000</td>\n",
       "      <td id=\"T_7c69a_row12_col2\" class=\"data row12 col2\" >318.500000</td>\n",
       "      <td id=\"T_7c69a_row12_col3\" class=\"data row12 col3\" >147.000000</td>\n",
       "      <td id=\"T_7c69a_row12_col4\" class=\"data row12 col4\" >7.000000</td>\n",
       "      <td id=\"T_7c69a_row12_col5\" class=\"data row12 col5\" >2</td>\n",
       "      <td id=\"T_7c69a_row12_col6\" class=\"data row12 col6\" >0.000000</td>\n",
       "      <td id=\"T_7c69a_row12_col7\" class=\"data row12 col7\" >0</td>\n",
       "      <td id=\"T_7c69a_row12_col8\" class=\"data row12 col8\" >17.050000</td>\n",
       "      <td id=\"T_7c69a_row12_col9\" class=\"data row12 col9\" >23.770000</td>\n",
       "    </tr>\n",
       "    <tr>\n",
       "      <th id=\"T_7c69a_level0_row13\" class=\"row_heading level0 row13\" >13</th>\n",
       "      <td id=\"T_7c69a_row13_col0\" class=\"data row13 col0\" >0.820000</td>\n",
       "      <td id=\"T_7c69a_row13_col1\" class=\"data row13 col1\" >612.500000</td>\n",
       "      <td id=\"T_7c69a_row13_col2\" class=\"data row13 col2\" >318.500000</td>\n",
       "      <td id=\"T_7c69a_row13_col3\" class=\"data row13 col3\" >147.000000</td>\n",
       "      <td id=\"T_7c69a_row13_col4\" class=\"data row13 col4\" >7.000000</td>\n",
       "      <td id=\"T_7c69a_row13_col5\" class=\"data row13 col5\" >3</td>\n",
       "      <td id=\"T_7c69a_row13_col6\" class=\"data row13 col6\" >0.000000</td>\n",
       "      <td id=\"T_7c69a_row13_col7\" class=\"data row13 col7\" >0</td>\n",
       "      <td id=\"T_7c69a_row13_col8\" class=\"data row13 col8\" >17.410000</td>\n",
       "      <td id=\"T_7c69a_row13_col9\" class=\"data row13 col9\" >21.460000</td>\n",
       "    </tr>\n",
       "    <tr>\n",
       "      <th id=\"T_7c69a_level0_row14\" class=\"row_heading level0 row14\" >14</th>\n",
       "      <td id=\"T_7c69a_row14_col0\" class=\"data row14 col0\" >0.820000</td>\n",
       "      <td id=\"T_7c69a_row14_col1\" class=\"data row14 col1\" >612.500000</td>\n",
       "      <td id=\"T_7c69a_row14_col2\" class=\"data row14 col2\" >318.500000</td>\n",
       "      <td id=\"T_7c69a_row14_col3\" class=\"data row14 col3\" >147.000000</td>\n",
       "      <td id=\"T_7c69a_row14_col4\" class=\"data row14 col4\" >7.000000</td>\n",
       "      <td id=\"T_7c69a_row14_col5\" class=\"data row14 col5\" >4</td>\n",
       "      <td id=\"T_7c69a_row14_col6\" class=\"data row14 col6\" >0.000000</td>\n",
       "      <td id=\"T_7c69a_row14_col7\" class=\"data row14 col7\" >0</td>\n",
       "      <td id=\"T_7c69a_row14_col8\" class=\"data row14 col8\" >16.950000</td>\n",
       "      <td id=\"T_7c69a_row14_col9\" class=\"data row14 col9\" >21.160000</td>\n",
       "    </tr>\n",
       "    <tr>\n",
       "      <th id=\"T_7c69a_level0_row15\" class=\"row_heading level0 row15\" >15</th>\n",
       "      <td id=\"T_7c69a_row15_col0\" class=\"data row15 col0\" >0.820000</td>\n",
       "      <td id=\"T_7c69a_row15_col1\" class=\"data row15 col1\" >612.500000</td>\n",
       "      <td id=\"T_7c69a_row15_col2\" class=\"data row15 col2\" >318.500000</td>\n",
       "      <td id=\"T_7c69a_row15_col3\" class=\"data row15 col3\" >147.000000</td>\n",
       "      <td id=\"T_7c69a_row15_col4\" class=\"data row15 col4\" >7.000000</td>\n",
       "      <td id=\"T_7c69a_row15_col5\" class=\"data row15 col5\" >5</td>\n",
       "      <td id=\"T_7c69a_row15_col6\" class=\"data row15 col6\" >0.000000</td>\n",
       "      <td id=\"T_7c69a_row15_col7\" class=\"data row15 col7\" >0</td>\n",
       "      <td id=\"T_7c69a_row15_col8\" class=\"data row15 col8\" >15.980000</td>\n",
       "      <td id=\"T_7c69a_row15_col9\" class=\"data row15 col9\" >24.930000</td>\n",
       "    </tr>\n",
       "    <tr>\n",
       "      <th id=\"T_7c69a_level0_row16\" class=\"row_heading level0 row16\" >16</th>\n",
       "      <td id=\"T_7c69a_row16_col0\" class=\"data row16 col0\" >0.790000</td>\n",
       "      <td id=\"T_7c69a_row16_col1\" class=\"data row16 col1\" >637.000000</td>\n",
       "      <td id=\"T_7c69a_row16_col2\" class=\"data row16 col2\" >343.000000</td>\n",
       "      <td id=\"T_7c69a_row16_col3\" class=\"data row16 col3\" >147.000000</td>\n",
       "      <td id=\"T_7c69a_row16_col4\" class=\"data row16 col4\" >7.000000</td>\n",
       "      <td id=\"T_7c69a_row16_col5\" class=\"data row16 col5\" >2</td>\n",
       "      <td id=\"T_7c69a_row16_col6\" class=\"data row16 col6\" >0.000000</td>\n",
       "      <td id=\"T_7c69a_row16_col7\" class=\"data row16 col7\" >0</td>\n",
       "      <td id=\"T_7c69a_row16_col8\" class=\"data row16 col8\" >28.520000</td>\n",
       "      <td id=\"T_7c69a_row16_col9\" class=\"data row16 col9\" >37.730000</td>\n",
       "    </tr>\n",
       "    <tr>\n",
       "      <th id=\"T_7c69a_level0_row17\" class=\"row_heading level0 row17\" >17</th>\n",
       "      <td id=\"T_7c69a_row17_col0\" class=\"data row17 col0\" >0.790000</td>\n",
       "      <td id=\"T_7c69a_row17_col1\" class=\"data row17 col1\" >637.000000</td>\n",
       "      <td id=\"T_7c69a_row17_col2\" class=\"data row17 col2\" >343.000000</td>\n",
       "      <td id=\"T_7c69a_row17_col3\" class=\"data row17 col3\" >147.000000</td>\n",
       "      <td id=\"T_7c69a_row17_col4\" class=\"data row17 col4\" >7.000000</td>\n",
       "      <td id=\"T_7c69a_row17_col5\" class=\"data row17 col5\" >3</td>\n",
       "      <td id=\"T_7c69a_row17_col6\" class=\"data row17 col6\" >0.000000</td>\n",
       "      <td id=\"T_7c69a_row17_col7\" class=\"data row17 col7\" >0</td>\n",
       "      <td id=\"T_7c69a_row17_col8\" class=\"data row17 col8\" >29.900000</td>\n",
       "      <td id=\"T_7c69a_row17_col9\" class=\"data row17 col9\" >31.270000</td>\n",
       "    </tr>\n",
       "    <tr>\n",
       "      <th id=\"T_7c69a_level0_row18\" class=\"row_heading level0 row18\" >18</th>\n",
       "      <td id=\"T_7c69a_row18_col0\" class=\"data row18 col0\" >0.790000</td>\n",
       "      <td id=\"T_7c69a_row18_col1\" class=\"data row18 col1\" >637.000000</td>\n",
       "      <td id=\"T_7c69a_row18_col2\" class=\"data row18 col2\" >343.000000</td>\n",
       "      <td id=\"T_7c69a_row18_col3\" class=\"data row18 col3\" >147.000000</td>\n",
       "      <td id=\"T_7c69a_row18_col4\" class=\"data row18 col4\" >7.000000</td>\n",
       "      <td id=\"T_7c69a_row18_col5\" class=\"data row18 col5\" >4</td>\n",
       "      <td id=\"T_7c69a_row18_col6\" class=\"data row18 col6\" >0.000000</td>\n",
       "      <td id=\"T_7c69a_row18_col7\" class=\"data row18 col7\" >0</td>\n",
       "      <td id=\"T_7c69a_row18_col8\" class=\"data row18 col8\" >29.630000</td>\n",
       "      <td id=\"T_7c69a_row18_col9\" class=\"data row18 col9\" >30.930000</td>\n",
       "    </tr>\n",
       "    <tr>\n",
       "      <th id=\"T_7c69a_level0_row19\" class=\"row_heading level0 row19\" >19</th>\n",
       "      <td id=\"T_7c69a_row19_col0\" class=\"data row19 col0\" >0.790000</td>\n",
       "      <td id=\"T_7c69a_row19_col1\" class=\"data row19 col1\" >637.000000</td>\n",
       "      <td id=\"T_7c69a_row19_col2\" class=\"data row19 col2\" >343.000000</td>\n",
       "      <td id=\"T_7c69a_row19_col3\" class=\"data row19 col3\" >147.000000</td>\n",
       "      <td id=\"T_7c69a_row19_col4\" class=\"data row19 col4\" >7.000000</td>\n",
       "      <td id=\"T_7c69a_row19_col5\" class=\"data row19 col5\" >5</td>\n",
       "      <td id=\"T_7c69a_row19_col6\" class=\"data row19 col6\" >0.000000</td>\n",
       "      <td id=\"T_7c69a_row19_col7\" class=\"data row19 col7\" >0</td>\n",
       "      <td id=\"T_7c69a_row19_col8\" class=\"data row19 col8\" >28.750000</td>\n",
       "      <td id=\"T_7c69a_row19_col9\" class=\"data row19 col9\" >39.440000</td>\n",
       "    </tr>\n",
       "    <tr>\n",
       "      <th id=\"T_7c69a_level0_row20\" class=\"row_heading level0 row20\" >20</th>\n",
       "      <td id=\"T_7c69a_row20_col0\" class=\"data row20 col0\" >0.760000</td>\n",
       "      <td id=\"T_7c69a_row20_col1\" class=\"data row20 col1\" >661.500000</td>\n",
       "      <td id=\"T_7c69a_row20_col2\" class=\"data row20 col2\" >416.500000</td>\n",
       "      <td id=\"T_7c69a_row20_col3\" class=\"data row20 col3\" >122.500000</td>\n",
       "      <td id=\"T_7c69a_row20_col4\" class=\"data row20 col4\" >7.000000</td>\n",
       "      <td id=\"T_7c69a_row20_col5\" class=\"data row20 col5\" >2</td>\n",
       "      <td id=\"T_7c69a_row20_col6\" class=\"data row20 col6\" >0.000000</td>\n",
       "      <td id=\"T_7c69a_row20_col7\" class=\"data row20 col7\" >0</td>\n",
       "      <td id=\"T_7c69a_row20_col8\" class=\"data row20 col8\" >24.770000</td>\n",
       "      <td id=\"T_7c69a_row20_col9\" class=\"data row20 col9\" >29.790000</td>\n",
       "    </tr>\n",
       "    <tr>\n",
       "      <th id=\"T_7c69a_level0_row21\" class=\"row_heading level0 row21\" >21</th>\n",
       "      <td id=\"T_7c69a_row21_col0\" class=\"data row21 col0\" >0.760000</td>\n",
       "      <td id=\"T_7c69a_row21_col1\" class=\"data row21 col1\" >661.500000</td>\n",
       "      <td id=\"T_7c69a_row21_col2\" class=\"data row21 col2\" >416.500000</td>\n",
       "      <td id=\"T_7c69a_row21_col3\" class=\"data row21 col3\" >122.500000</td>\n",
       "      <td id=\"T_7c69a_row21_col4\" class=\"data row21 col4\" >7.000000</td>\n",
       "      <td id=\"T_7c69a_row21_col5\" class=\"data row21 col5\" >3</td>\n",
       "      <td id=\"T_7c69a_row21_col6\" class=\"data row21 col6\" >0.000000</td>\n",
       "      <td id=\"T_7c69a_row21_col7\" class=\"data row21 col7\" >0</td>\n",
       "      <td id=\"T_7c69a_row21_col8\" class=\"data row21 col8\" >23.930000</td>\n",
       "      <td id=\"T_7c69a_row21_col9\" class=\"data row21 col9\" >29.680000</td>\n",
       "    </tr>\n",
       "    <tr>\n",
       "      <th id=\"T_7c69a_level0_row22\" class=\"row_heading level0 row22\" >22</th>\n",
       "      <td id=\"T_7c69a_row22_col0\" class=\"data row22 col0\" >0.760000</td>\n",
       "      <td id=\"T_7c69a_row22_col1\" class=\"data row22 col1\" >661.500000</td>\n",
       "      <td id=\"T_7c69a_row22_col2\" class=\"data row22 col2\" >416.500000</td>\n",
       "      <td id=\"T_7c69a_row22_col3\" class=\"data row22 col3\" >122.500000</td>\n",
       "      <td id=\"T_7c69a_row22_col4\" class=\"data row22 col4\" >7.000000</td>\n",
       "      <td id=\"T_7c69a_row22_col5\" class=\"data row22 col5\" >4</td>\n",
       "      <td id=\"T_7c69a_row22_col6\" class=\"data row22 col6\" >0.000000</td>\n",
       "      <td id=\"T_7c69a_row22_col7\" class=\"data row22 col7\" >0</td>\n",
       "      <td id=\"T_7c69a_row22_col8\" class=\"data row22 col8\" >24.770000</td>\n",
       "      <td id=\"T_7c69a_row22_col9\" class=\"data row22 col9\" >29.790000</td>\n",
       "    </tr>\n",
       "    <tr>\n",
       "      <th id=\"T_7c69a_level0_row23\" class=\"row_heading level0 row23\" >23</th>\n",
       "      <td id=\"T_7c69a_row23_col0\" class=\"data row23 col0\" >0.760000</td>\n",
       "      <td id=\"T_7c69a_row23_col1\" class=\"data row23 col1\" >661.500000</td>\n",
       "      <td id=\"T_7c69a_row23_col2\" class=\"data row23 col2\" >416.500000</td>\n",
       "      <td id=\"T_7c69a_row23_col3\" class=\"data row23 col3\" >122.500000</td>\n",
       "      <td id=\"T_7c69a_row23_col4\" class=\"data row23 col4\" >7.000000</td>\n",
       "      <td id=\"T_7c69a_row23_col5\" class=\"data row23 col5\" >5</td>\n",
       "      <td id=\"T_7c69a_row23_col6\" class=\"data row23 col6\" >0.000000</td>\n",
       "      <td id=\"T_7c69a_row23_col7\" class=\"data row23 col7\" >0</td>\n",
       "      <td id=\"T_7c69a_row23_col8\" class=\"data row23 col8\" >23.930000</td>\n",
       "      <td id=\"T_7c69a_row23_col9\" class=\"data row23 col9\" >29.400000</td>\n",
       "    </tr>\n",
       "    <tr>\n",
       "      <th id=\"T_7c69a_level0_row24\" class=\"row_heading level0 row24\" >24</th>\n",
       "      <td id=\"T_7c69a_row24_col0\" class=\"data row24 col0\" >0.740000</td>\n",
       "      <td id=\"T_7c69a_row24_col1\" class=\"data row24 col1\" >686.000000</td>\n",
       "      <td id=\"T_7c69a_row24_col2\" class=\"data row24 col2\" >245.000000</td>\n",
       "      <td id=\"T_7c69a_row24_col3\" class=\"data row24 col3\" >220.500000</td>\n",
       "      <td id=\"T_7c69a_row24_col4\" class=\"data row24 col4\" >3.500000</td>\n",
       "      <td id=\"T_7c69a_row24_col5\" class=\"data row24 col5\" >2</td>\n",
       "      <td id=\"T_7c69a_row24_col6\" class=\"data row24 col6\" >0.000000</td>\n",
       "      <td id=\"T_7c69a_row24_col7\" class=\"data row24 col7\" >0</td>\n",
       "      <td id=\"T_7c69a_row24_col8\" class=\"data row24 col8\" >6.070000</td>\n",
       "      <td id=\"T_7c69a_row24_col9\" class=\"data row24 col9\" >10.900000</td>\n",
       "    </tr>\n",
       "  </tbody>\n",
       "</table>\n"
      ],
      "text/plain": [
       "<pandas.io.formats.style.Styler at 0x21006645cd0>"
      ]
     },
     "execution_count": 11,
     "metadata": {},
     "output_type": "execute_result"
    }
   ],
   "source": [
    "df_class.head(25).style.background_gradient()"
   ]
  },
  {
   "cell_type": "code",
   "execution_count": 12,
   "id": "b9d0b487",
   "metadata": {},
   "outputs": [
    {
     "data": {
      "text/plain": [
       "0.24088541666666666"
      ]
     },
     "execution_count": 12,
     "metadata": {},
     "output_type": "execute_result"
    }
   ],
   "source": [
    "df_class_orientation = df_class[df_class[\"orientation\"] == 5]\n",
    "df_class_orientation.cooling_load.nunique() / len(df_class)"
   ]
  },
  {
   "cell_type": "code",
   "execution_count": 13,
   "id": "995899bf",
   "metadata": {},
   "outputs": [
    {
     "data": {
      "image/png": "[encoded data removed]",
      "text/plain": [
       "<Figure size 1440x720 with 10 Axes>"
      ]
     },
     "metadata": {
      "needs_background": "light"
     },
     "output_type": "display_data"
    }
   ],
   "source": [
    "fig, axs = plt.subplots(ncols=5, nrows=2, figsize=(20, 10))\n",
    "index = 0\n",
    "axs = axs.flatten()\n",
    "for k, v in df_class.items():\n",
    "    sns.boxplot(y=k, data=df_class, ax=axs[index])\n",
    "    index += 1\n",
    "plt.tight_layout(pad=0.4, w_pad=0.5, h_pad=5.0)\n"
   ]
  },
  {
   "cell_type": "code",
   "execution_count": 14,
   "id": "e7ba7d57",
   "metadata": {},
   "outputs": [
    {
     "data": {
      "text/plain": [
       "relative_compactness          12\n",
       "surface_area                  12\n",
       "wall_area                      7\n",
       "roof_area                      4\n",
       "overall_height                 2\n",
       "orientation                    4\n",
       "glazing_area                   4\n",
       "glazing_area_distribution      6\n",
       "heating_load                 586\n",
       "cooling_load                 636\n",
       "dtype: int64"
      ]
     },
     "execution_count": 14,
     "metadata": {},
     "output_type": "execute_result"
    }
   ],
   "source": [
    "df_class.nunique()"
   ]
  },
  {
   "cell_type": "code",
   "execution_count": 15,
   "id": "8c3b7df8",
   "metadata": {},
   "outputs": [
    {
     "data": {
      "image/png": "[encoded data removed]",
      "text/plain": [
       "<Figure size 864x288 with 2 Axes>"
      ]
     },
     "metadata": {
      "needs_background": "light"
     },
     "output_type": "display_data"
    }
   ],
   "source": [
    "x = df_class.heating_load\n",
    "fig, axes = plt.subplots(ncols=2, figsize=(12, 4))\n",
    "for ax in axes:\n",
    "    sns.kdeplot(x, shade=False, color='crimson', ax=ax)\n",
    "    kdeline = ax.lines[0]\n",
    "    xs = kdeline.get_xdata()\n",
    "    ys = kdeline.get_ydata()\n",
    "    if ax == axes[0]:\n",
    "        mode_idx = np.argmax(ys)\n",
    "        middle = x.mean()\n",
    "        sdev = x.std()\n",
    "        left = middle - sdev\n",
    "        right = middle + sdev\n",
    "        ax.set_title('Showing mean and sdev')\n",
    "    else:\n",
    "        left, middle, right = np.percentile(x, [25, 50, 75])\n",
    "        ax.set_title('Showing median and quartiles')\n",
    "    ax.vlines(middle, 0, np.interp(middle, xs, ys), color='crimson', ls=':')\n",
    "    ax.vlines(xs[mode_idx], 0, ys[mode_idx], color='darkslategray', ls='--')\n",
    "    ax.fill_between(xs, 0, ys, facecolor='crimson', alpha=0.2)\n",
    "    ax.fill_between(xs,\n",
    "                    0,\n",
    "                    ys,\n",
    "                    where=(left <= xs) & (xs <= right),\n",
    "                    interpolate=True,\n",
    "                    facecolor='crimson',\n",
    "                    alpha=0.2)\n",
    "    # ax.set_ylim(ymin=0)\n",
    "plt.show()"
   ]
  },
  {
   "cell_type": "markdown",
   "id": "6ff93eeb",
   "metadata": {},
   "source": [
    "# correlation"
   ]
  },
  {
   "cell_type": "code",
   "execution_count": 16,
   "id": "760e7861",
   "metadata": {},
   "outputs": [
    {
     "data": {
      "image/png": "[encoded data removed]",
      "text/plain": [
       "<Figure size 1152x432 with 2 Axes>"
      ]
     },
     "metadata": {
      "needs_background": "light"
     },
     "output_type": "display_data"
    }
   ],
   "source": [
    "plt.figure(figsize=(16, 6))\n",
    "# define the mask to set the values in the upper triangle to True\n",
    "mask = np.triu(np.ones_like(df_class.corr(), dtype=bool))\n",
    "heatmap = sns.heatmap(df_class.corr(),\n",
    "                      mask=mask,\n",
    "                      vmin=-1,\n",
    "                      vmax=1,\n",
    "                      annot=True,\n",
    "                      cmap='BrBG')\n",
    "heatmap.set_title('Triangle Correlation Heatmap',\n",
    "                  fontdict={'fontsize': 18},\n",
    "                  pad=16)\n",
    "plt.show()"
   ]
  },
  {
   "cell_type": "markdown",
   "id": "8945a722",
   "metadata": {},
   "source": [
    "\n",
    "# Feature importance and selection"
   ]
  },
  {
   "cell_type": "code",
   "execution_count": 17,
   "id": "9af27a66",
   "metadata": {},
   "outputs": [
    {
     "data": {
      "text/plain": [
       "Text(0.5, 1.0, 'Correlation between features and target variable')"
      ]
     },
     "execution_count": 17,
     "metadata": {},
     "output_type": "execute_result"
    },
    {
     "data": {
      "image/png": "[encoded data removed]",
      "text/plain": [
       "<Figure size 720x720 with 1 Axes>"
      ]
     },
     "metadata": {
      "needs_background": "light"
     },
     "output_type": "display_data"
    }
   ],
   "source": [
    "# We considered the correlation between numerical features and target variable\n",
    "\n",
    "corr_df = pd.DataFrame(df_class.corrwith(df_class[\"heating_load\"]),\n",
    "                       columns=[\"Corr\"])\n",
    "\n",
    "corr_df = corr_df.sort_values(by=['Corr'])\n",
    "\n",
    "# Set figure and axes\n",
    "fig, ax = plt.subplots()\n",
    "\n",
    "# Figure size\n",
    "fig.set_size_inches(10, 10)\n",
    "\n",
    "plt.barh(y=corr_df.index, width=corr_df.Corr)\n",
    "\n",
    "# Add title\n",
    "plt.title('Correlation between features and target variable')"
   ]
  },
  {
   "cell_type": "code",
   "execution_count": 18,
   "id": "1a1cded7",
   "metadata": {},
   "outputs": [],
   "source": [
    "df_class['total_load'] = df_class['heating_load'] + df_class['cooling_load']"
   ]
  },
  {
   "cell_type": "markdown",
   "id": "9769f891",
   "metadata": {},
   "source": [
    "# roof area vs load"
   ]
  },
  {
   "cell_type": "code",
   "execution_count": 19,
   "id": "dddb7897",
   "metadata": {},
   "outputs": [
    {
     "data": {
      "text/plain": [
       "220.50    384\n",
       "147.00    192\n",
       "122.50    128\n",
       "110.25     64\n",
       "Name: roof_area, dtype: int64"
      ]
     },
     "execution_count": 19,
     "metadata": {},
     "output_type": "execute_result"
    }
   ],
   "source": [
    "df_class.roof_area.value_counts()[:3].sort_values(ascending=False)"
   ]
  },
  {
   "cell_type": "code",
   "execution_count": 20,
   "id": "63d66a38",
   "metadata": {},
   "outputs": [
    {
     "data": {
      "text/plain": [
       "count    768.000000\n",
       "mean     176.604167\n",
       "std       45.165950\n",
       "min      110.250000\n",
       "25%      140.875000\n",
       "50%      183.750000\n",
       "75%      220.500000\n",
       "max      220.500000\n",
       "Name: roof_area, dtype: float64"
      ]
     },
     "execution_count": 20,
     "metadata": {},
     "output_type": "execute_result"
    }
   ],
   "source": [
    "df_class.roof_area.describe()"
   ]
  },
  {
   "cell_type": "code",
   "execution_count": 21,
   "id": "9b2ee100",
   "metadata": {},
   "outputs": [
    {
     "data": {
      "text/plain": [
       "<AxesSubplot:xlabel='roof_area', ylabel='Probability'>"
      ]
     },
     "execution_count": 21,
     "metadata": {},
     "output_type": "execute_result"
    },
    {
     "data": {
      "image/png": "[encoded data removed]",
      "text/plain": [
       "<Figure size 432x288 with 1 Axes>"
      ]
     },
     "metadata": {},
     "output_type": "display_data"
    }
   ],
   "source": [
    "sns.set_theme(style='darkgrid')\n",
    "sns.histplot(df_class.roof_area,\n",
    "             stat=\"probability\",\n",
    "             color=\"darkslategray\",\n",
    "             alpha=0.65)"
   ]
  },
  {
   "cell_type": "code",
   "execution_count": 22,
   "id": "7923adef",
   "metadata": {},
   "outputs": [
    {
     "data": {
      "text/plain": [
       "<AxesSubplot:xlabel='roof_area', ylabel='total_load'>"
      ]
     },
     "execution_count": 22,
     "metadata": {},
     "output_type": "execute_result"
    },
    {
     "data": {
      "image/png": "[encoded data removed]",
      "text/plain": [
       "<Figure size 432x288 with 1 Axes>"
      ]
     },
     "metadata": {},
     "output_type": "display_data"
    }
   ],
   "source": [
    "sns.barplot(x='roof_area', y='total_load', data=df_class, palette='flare')"
   ]
  },
  {
   "cell_type": "code",
   "execution_count": 23,
   "id": "3c58238a",
   "metadata": {},
   "outputs": [
    {
     "data": {
      "text/plain": [
       "<AxesSubplot:xlabel='roof_area', ylabel='total_load'>"
      ]
     },
     "execution_count": 23,
     "metadata": {},
     "output_type": "execute_result"
    },
    {
     "data": {
      "image/png": "[encoded data removed]",
      "text/plain": [
       "<Figure size 432x288 with 1 Axes>"
      ]
     },
     "metadata": {},
     "output_type": "display_data"
    }
   ],
   "source": [
    "sns.violinplot(x='roof_area', y='total_load', data=df_class, palette='flare')\n"
   ]
  },
  {
   "cell_type": "markdown",
   "id": "b997d64e",
   "metadata": {},
   "source": [
    "We have 4 kinds of roof areas, where 50% of the buildings have roof area of 220.5, 25% have 147 while the rest 25% of the buildings have roof area below 140. Interestingly, as we saw above on the correlation matrix, those with roof area of 220.5 have lower heating and cooling load, thus tend to be more energy efficient."
   ]
  },
  {
   "cell_type": "markdown",
   "id": "07fe8cfd",
   "metadata": {},
   "source": [
    "# Overall height vs load"
   ]
  },
  {
   "cell_type": "code",
   "execution_count": 24,
   "id": "07f9a790",
   "metadata": {},
   "outputs": [
    {
     "data": {
      "text/plain": [
       "<AxesSubplot:xlabel='overall_height', ylabel='total_load'>"
      ]
     },
     "execution_count": 24,
     "metadata": {},
     "output_type": "execute_result"
    },
    {
     "data": {
      "image/png": "[encoded data removed]",
      "text/plain": [
       "<Figure size 432x288 with 1 Axes>"
      ]
     },
     "metadata": {},
     "output_type": "display_data"
    }
   ],
   "source": [
    "sns.barplot(x='overall_height', y='total_load', data=df_class, palette='flare')"
   ]
  },
  {
   "cell_type": "markdown",
   "id": "3eef316b",
   "metadata": {},
   "source": [
    "Higher buildings tend to be much more energy-intensive."
   ]
  },
  {
   "cell_type": "markdown",
   "id": "ccf16f23",
   "metadata": {},
   "source": [
    "# Wall area vs load"
   ]
  },
  {
   "cell_type": "code",
   "execution_count": 25,
   "id": "7d71097f",
   "metadata": {},
   "outputs": [
    {
     "data": {
      "text/plain": [
       "<AxesSubplot:xlabel='wall_area', ylabel='total_load'>"
      ]
     },
     "execution_count": 25,
     "metadata": {},
     "output_type": "execute_result"
    },
    {
     "data": {
      "image/png": "[encoded data removed]",
      "text/plain": [
       "<Figure size 432x288 with 1 Axes>"
      ]
     },
     "metadata": {},
     "output_type": "display_data"
    }
   ],
   "source": [
    "sns.barplot(x='wall_area', y='total_load', data=df_class, palette='flare')"
   ]
  },
  {
   "cell_type": "markdown",
   "id": "5ec7e8ca",
   "metadata": {},
   "source": [
    "Higher load is expected to buildings with high wall area."
   ]
  },
  {
   "cell_type": "markdown",
   "id": "61d12671",
   "metadata": {},
   "source": [
    "# Relative Compactness vs load"
   ]
  },
  {
   "cell_type": "code",
   "execution_count": 26,
   "id": "c4f74ac4",
   "metadata": {},
   "outputs": [
    {
     "data": {
      "text/plain": [
       "<AxesSubplot:xlabel='relative_compactness', ylabel='total_load'>"
      ]
     },
     "execution_count": 26,
     "metadata": {},
     "output_type": "execute_result"
    },
    {
     "data": {
      "image/png": "[encoded data removed]",
      "text/plain": [
       "<Figure size 432x288 with 1 Axes>"
      ]
     },
     "metadata": {},
     "output_type": "display_data"
    }
   ],
   "source": [
    "sns.barplot(x='relative_compactness',\n",
    "            y='total_load',\n",
    "            data=df_class,\n",
    "            palette='flare')\n"
   ]
  },
  {
   "cell_type": "markdown",
   "id": "a1146079",
   "metadata": {},
   "source": [
    "We observe that when relative compactness is below 0.75 the heating and cooling load are low, but high when is above 0.75. This means that a less compact building is more energy efficient."
   ]
  },
  {
   "cell_type": "markdown",
   "id": "e82d4c67",
   "metadata": {},
   "source": [
    "# Training & splitting"
   ]
  },
  {
   "cell_type": "code",
   "execution_count": 27,
   "id": "f984d8bd",
   "metadata": {},
   "outputs": [
    {
     "data": {
      "text/html": [
       "<div>\n",
       "<style scoped>\n",
       "    .dataframe tbody tr th:only-of-type {\n",
       "        vertical-align: middle;\n",
       "    }\n",
       "\n",
       "    .dataframe tbody tr th {\n",
       "        vertical-align: top;\n",
       "    }\n",
       "\n",
       "    .dataframe thead th {\n",
       "        text-align: right;\n",
       "    }\n",
       "</style>\n",
       "<table border=\"1\" class=\"dataframe\">\n",
       "  <thead>\n",
       "    <tr style=\"text-align: right;\">\n",
       "      <th></th>\n",
       "      <th>relative_compactness</th>\n",
       "      <th>surface_area</th>\n",
       "      <th>wall_area</th>\n",
       "      <th>roof_area</th>\n",
       "      <th>overall_height</th>\n",
       "      <th>orientation</th>\n",
       "      <th>glazing_area</th>\n",
       "      <th>glazing_area_distribution</th>\n",
       "      <th>heating_load</th>\n",
       "      <th>cooling_load</th>\n",
       "    </tr>\n",
       "  </thead>\n",
       "  <tbody>\n",
       "    <tr>\n",
       "      <th>0</th>\n",
       "      <td>0.98</td>\n",
       "      <td>514.5</td>\n",
       "      <td>294.0</td>\n",
       "      <td>110.25</td>\n",
       "      <td>7.0</td>\n",
       "      <td>2</td>\n",
       "      <td>0.0</td>\n",
       "      <td>0</td>\n",
       "      <td>15.55</td>\n",
       "      <td>21.33</td>\n",
       "    </tr>\n",
       "    <tr>\n",
       "      <th>1</th>\n",
       "      <td>0.98</td>\n",
       "      <td>514.5</td>\n",
       "      <td>294.0</td>\n",
       "      <td>110.25</td>\n",
       "      <td>7.0</td>\n",
       "      <td>3</td>\n",
       "      <td>0.0</td>\n",
       "      <td>0</td>\n",
       "      <td>15.55</td>\n",
       "      <td>21.33</td>\n",
       "    </tr>\n",
       "    <tr>\n",
       "      <th>2</th>\n",
       "      <td>0.98</td>\n",
       "      <td>514.5</td>\n",
       "      <td>294.0</td>\n",
       "      <td>110.25</td>\n",
       "      <td>7.0</td>\n",
       "      <td>4</td>\n",
       "      <td>0.0</td>\n",
       "      <td>0</td>\n",
       "      <td>15.55</td>\n",
       "      <td>21.33</td>\n",
       "    </tr>\n",
       "    <tr>\n",
       "      <th>3</th>\n",
       "      <td>0.98</td>\n",
       "      <td>514.5</td>\n",
       "      <td>294.0</td>\n",
       "      <td>110.25</td>\n",
       "      <td>7.0</td>\n",
       "      <td>5</td>\n",
       "      <td>0.0</td>\n",
       "      <td>0</td>\n",
       "      <td>15.55</td>\n",
       "      <td>21.33</td>\n",
       "    </tr>\n",
       "    <tr>\n",
       "      <th>4</th>\n",
       "      <td>0.90</td>\n",
       "      <td>563.5</td>\n",
       "      <td>318.5</td>\n",
       "      <td>122.50</td>\n",
       "      <td>7.0</td>\n",
       "      <td>2</td>\n",
       "      <td>0.0</td>\n",
       "      <td>0</td>\n",
       "      <td>20.84</td>\n",
       "      <td>28.28</td>\n",
       "    </tr>\n",
       "  </tbody>\n",
       "</table>\n",
       "</div>"
      ],
      "text/plain": [
       "   relative_compactness  surface_area  wall_area  roof_area  overall_height  \\\n",
       "0                  0.98         514.5      294.0     110.25             7.0   \n",
       "1                  0.98         514.5      294.0     110.25             7.0   \n",
       "2                  0.98         514.5      294.0     110.25             7.0   \n",
       "3                  0.98         514.5      294.0     110.25             7.0   \n",
       "4                  0.90         563.5      318.5     122.50             7.0   \n",
       "\n",
       "   orientation  glazing_area  glazing_area_distribution  heating_load  \\\n",
       "0            2           0.0                          0         15.55   \n",
       "1            3           0.0                          0         15.55   \n",
       "2            4           0.0                          0         15.55   \n",
       "3            5           0.0                          0         15.55   \n",
       "4            2           0.0                          0         20.84   \n",
       "\n",
       "   cooling_load  \n",
       "0         21.33  \n",
       "1         21.33  \n",
       "2         21.33  \n",
       "3         21.33  \n",
       "4         28.28  "
      ]
     },
     "execution_count": 27,
     "metadata": {},
     "output_type": "execute_result"
    }
   ],
   "source": [
    "df_class = df_class.drop('total_load', axis=1)\n",
    "df_class.head()"
   ]
  },
  {
   "cell_type": "code",
   "execution_count": 28,
   "id": "cb98a537",
   "metadata": {},
   "outputs": [
    {
     "name": "stdout",
     "output_type": "stream",
     "text": [
      "768\n",
      "614\n",
      "460\n",
      "154\n",
      "154\n",
      "59.895833333333336\n",
      "20.052083333333332\n",
      "20.052083333333332\n"
     ]
    },
    {
     "data": {
      "text/plain": [
       "(None, None, None)"
      ]
     },
     "execution_count": 28,
     "metadata": {},
     "output_type": "execute_result"
    }
   ],
   "source": [
    "from sklearn.model_selection import train_test_split\n",
    "\n",
    "df_full_train, df_test = train_test_split(df_class,\n",
    "                                          test_size=0.2,\n",
    "                                          random_state=1)\n",
    "df_train, df_val = train_test_split(df_full_train,\n",
    "                                    test_size=0.25,\n",
    "                                    random_state=None)\n",
    "\n",
    "print(len(df_class)), print(len(df_full_train)), print(len(df_train)), print(\n",
    "    len(df_val)), print(len(df_test))\n",
    "print(len(df_train) * 100 / len(df_class)), print(\n",
    "    len(df_val) * 100 / len(df_class)), print(\n",
    "        len(df_test) * 100 / len(df_class))"
   ]
  },
  {
   "cell_type": "code",
   "execution_count": 29,
   "id": "99dc9462",
   "metadata": {},
   "outputs": [
    {
     "data": {
      "text/html": [
       "<div>\n",
       "<style scoped>\n",
       "    .dataframe tbody tr th:only-of-type {\n",
       "        vertical-align: middle;\n",
       "    }\n",
       "\n",
       "    .dataframe tbody tr th {\n",
       "        vertical-align: top;\n",
       "    }\n",
       "\n",
       "    .dataframe thead th {\n",
       "        text-align: right;\n",
       "    }\n",
       "</style>\n",
       "<table border=\"1\" class=\"dataframe\">\n",
       "  <thead>\n",
       "    <tr style=\"text-align: right;\">\n",
       "      <th></th>\n",
       "      <th>relative_compactness</th>\n",
       "      <th>surface_area</th>\n",
       "      <th>wall_area</th>\n",
       "      <th>roof_area</th>\n",
       "      <th>overall_height</th>\n",
       "      <th>orientation</th>\n",
       "      <th>glazing_area</th>\n",
       "      <th>glazing_area_distribution</th>\n",
       "      <th>heating_load</th>\n",
       "      <th>cooling_load</th>\n",
       "    </tr>\n",
       "  </thead>\n",
       "  <tbody>\n",
       "    <tr>\n",
       "      <th>55</th>\n",
       "      <td>0.90</td>\n",
       "      <td>563.5</td>\n",
       "      <td>318.5</td>\n",
       "      <td>122.5</td>\n",
       "      <td>7.0</td>\n",
       "      <td>5</td>\n",
       "      <td>0.1</td>\n",
       "      <td>1</td>\n",
       "      <td>28.09</td>\n",
       "      <td>34.33</td>\n",
       "    </tr>\n",
       "    <tr>\n",
       "      <th>58</th>\n",
       "      <td>0.86</td>\n",
       "      <td>588.0</td>\n",
       "      <td>294.0</td>\n",
       "      <td>147.0</td>\n",
       "      <td>7.0</td>\n",
       "      <td>4</td>\n",
       "      <td>0.1</td>\n",
       "      <td>1</td>\n",
       "      <td>26.37</td>\n",
       "      <td>27.03</td>\n",
       "    </tr>\n",
       "    <tr>\n",
       "      <th>204</th>\n",
       "      <td>0.82</td>\n",
       "      <td>612.5</td>\n",
       "      <td>318.5</td>\n",
       "      <td>147.0</td>\n",
       "      <td>7.0</td>\n",
       "      <td>2</td>\n",
       "      <td>0.1</td>\n",
       "      <td>4</td>\n",
       "      <td>23.80</td>\n",
       "      <td>24.61</td>\n",
       "    </tr>\n",
       "    <tr>\n",
       "      <th>284</th>\n",
       "      <td>0.62</td>\n",
       "      <td>808.5</td>\n",
       "      <td>367.5</td>\n",
       "      <td>220.5</td>\n",
       "      <td>3.5</td>\n",
       "      <td>2</td>\n",
       "      <td>0.1</td>\n",
       "      <td>5</td>\n",
       "      <td>12.59</td>\n",
       "      <td>14.24</td>\n",
       "    </tr>\n",
       "    <tr>\n",
       "      <th>14</th>\n",
       "      <td>0.82</td>\n",
       "      <td>612.5</td>\n",
       "      <td>318.5</td>\n",
       "      <td>147.0</td>\n",
       "      <td>7.0</td>\n",
       "      <td>4</td>\n",
       "      <td>0.0</td>\n",
       "      <td>0</td>\n",
       "      <td>16.95</td>\n",
       "      <td>21.16</td>\n",
       "    </tr>\n",
       "  </tbody>\n",
       "</table>\n",
       "</div>"
      ],
      "text/plain": [
       "     relative_compactness  surface_area  wall_area  roof_area  overall_height  \\\n",
       "55                   0.90         563.5      318.5      122.5             7.0   \n",
       "58                   0.86         588.0      294.0      147.0             7.0   \n",
       "204                  0.82         612.5      318.5      147.0             7.0   \n",
       "284                  0.62         808.5      367.5      220.5             3.5   \n",
       "14                   0.82         612.5      318.5      147.0             7.0   \n",
       "\n",
       "     orientation  glazing_area  glazing_area_distribution  heating_load  \\\n",
       "55             5           0.1                          1         28.09   \n",
       "58             4           0.1                          1         26.37   \n",
       "204            2           0.1                          4         23.80   \n",
       "284            2           0.1                          5         12.59   \n",
       "14             4           0.0                          0         16.95   \n",
       "\n",
       "     cooling_load  \n",
       "55          34.33  \n",
       "58          27.03  \n",
       "204         24.61  \n",
       "284         14.24  \n",
       "14          21.16  "
      ]
     },
     "execution_count": 29,
     "metadata": {},
     "output_type": "execute_result"
    }
   ],
   "source": [
    "df_train.head()"
   ]
  },
  {
   "cell_type": "code",
   "execution_count": 30,
   "id": "5ca6de66",
   "metadata": {},
   "outputs": [
    {
     "data": {
      "text/plain": [
       "array([12.74, 29.68, 36.57, 38.57, 34.72, 16.99, 15.19, 28.56, 14.51,\n",
       "       25.27, 14.96, 33.27, 24.96, 15.09, 12.95, 38.98, 28.75, 15.3 ,\n",
       "       13.95, 32.4 , 25.17, 10.07, 23.87, 18.46, 14.61, 34.24, 16.76,\n",
       "       13.  , 41.26, 12.76, 32.71, 37.24, 11.33, 14.28, 26.33, 41.73,\n",
       "       17.69, 11.69, 39.83, 14.5 , 36.43, 11.34,  8.5 , 15.36, 11.18,\n",
       "       15.42, 19.5 , 25.17, 36.57, 39.04, 11.13, 32.4 , 10.7 , 15.08,\n",
       "       28.64, 29.67, 35.96, 28.66, 12.43, 15.23, 12.8 , 23.53, 22.79,\n",
       "       28.01, 28.52, 39.31, 25.98, 14.92, 32.67, 12.93, 26.28, 15.16,\n",
       "       14.44, 32.38, 14.37, 23.93, 29.43, 32.12, 14.6 , 24.32, 11.68,\n",
       "       29.08, 14.51, 29.91, 14.39, 39.97, 40.4 , 36.86, 13.91, 12.78,\n",
       "       28.4 , 24.63, 11.6 , 34.29, 14.62, 31.69, 11.43, 25.38, 10.42,\n",
       "       29.5 , 32.46, 14.71, 24.24, 12.02, 13.86, 12.28, 24.03, 28.07,\n",
       "       23.86, 36.95, 38.89, 15.55, 25.37, 11.69, 36.06, 10.78, 37.12,\n",
       "       32.21, 32.09, 14.21, 26.48, 28.6 , 14.7 , 26.91, 39.04, 14.62,\n",
       "       10.37, 29.47, 10.72, 16.86, 42.5 , 11.14, 31.29, 41.3 ,  6.81,\n",
       "       32.49, 24.04, 10.54, 40.  , 14.52, 15.18, 23.75, 16.44, 17.02,\n",
       "       15.55, 29.6 , 10.36, 36.91, 36.9 , 14.42, 12.57, 26.89, 28.93,\n",
       "       42.08])"
      ]
     },
     "execution_count": 30,
     "metadata": {},
     "output_type": "execute_result"
    }
   ],
   "source": [
    "y_train = df_train[['heating_load', 'cooling_load']].values\n",
    "y_val = df_val[['heating_load', 'cooling_load']].values\n",
    "y_test = df_test[['heating_load', 'cooling_load']].values\n",
    "y_test[:, 0]"
   ]
  },
  {
   "cell_type": "code",
   "execution_count": 31,
   "id": "cf91c5b2",
   "metadata": {},
   "outputs": [],
   "source": [
    "del df_train['heating_load']\n",
    "del df_train['cooling_load']\n",
    "del df_val['heating_load']\n",
    "del df_val['cooling_load']\n",
    "del df_test['heating_load']\n",
    "del df_test['cooling_load']"
   ]
  },
  {
   "cell_type": "code",
   "execution_count": 32,
   "id": "04f2e33c",
   "metadata": {},
   "outputs": [
    {
     "data": {
      "text/html": [
       "<div>\n",
       "<style scoped>\n",
       "    .dataframe tbody tr th:only-of-type {\n",
       "        vertical-align: middle;\n",
       "    }\n",
       "\n",
       "    .dataframe tbody tr th {\n",
       "        vertical-align: top;\n",
       "    }\n",
       "\n",
       "    .dataframe thead th {\n",
       "        text-align: right;\n",
       "    }\n",
       "</style>\n",
       "<table border=\"1\" class=\"dataframe\">\n",
       "  <thead>\n",
       "    <tr style=\"text-align: right;\">\n",
       "      <th></th>\n",
       "      <th>relative_compactness</th>\n",
       "      <th>surface_area</th>\n",
       "      <th>wall_area</th>\n",
       "      <th>roof_area</th>\n",
       "      <th>overall_height</th>\n",
       "      <th>orientation</th>\n",
       "      <th>glazing_area</th>\n",
       "      <th>glazing_area_distribution</th>\n",
       "    </tr>\n",
       "  </thead>\n",
       "  <tbody>\n",
       "    <tr>\n",
       "      <th>55</th>\n",
       "      <td>0.90</td>\n",
       "      <td>563.5</td>\n",
       "      <td>318.5</td>\n",
       "      <td>122.5</td>\n",
       "      <td>7.0</td>\n",
       "      <td>5</td>\n",
       "      <td>0.1</td>\n",
       "      <td>1</td>\n",
       "    </tr>\n",
       "    <tr>\n",
       "      <th>58</th>\n",
       "      <td>0.86</td>\n",
       "      <td>588.0</td>\n",
       "      <td>294.0</td>\n",
       "      <td>147.0</td>\n",
       "      <td>7.0</td>\n",
       "      <td>4</td>\n",
       "      <td>0.1</td>\n",
       "      <td>1</td>\n",
       "    </tr>\n",
       "    <tr>\n",
       "      <th>204</th>\n",
       "      <td>0.82</td>\n",
       "      <td>612.5</td>\n",
       "      <td>318.5</td>\n",
       "      <td>147.0</td>\n",
       "      <td>7.0</td>\n",
       "      <td>2</td>\n",
       "      <td>0.1</td>\n",
       "      <td>4</td>\n",
       "    </tr>\n",
       "    <tr>\n",
       "      <th>284</th>\n",
       "      <td>0.62</td>\n",
       "      <td>808.5</td>\n",
       "      <td>367.5</td>\n",
       "      <td>220.5</td>\n",
       "      <td>3.5</td>\n",
       "      <td>2</td>\n",
       "      <td>0.1</td>\n",
       "      <td>5</td>\n",
       "    </tr>\n",
       "    <tr>\n",
       "      <th>14</th>\n",
       "      <td>0.82</td>\n",
       "      <td>612.5</td>\n",
       "      <td>318.5</td>\n",
       "      <td>147.0</td>\n",
       "      <td>7.0</td>\n",
       "      <td>4</td>\n",
       "      <td>0.0</td>\n",
       "      <td>0</td>\n",
       "    </tr>\n",
       "  </tbody>\n",
       "</table>\n",
       "</div>"
      ],
      "text/plain": [
       "     relative_compactness  surface_area  wall_area  roof_area  overall_height  \\\n",
       "55                   0.90         563.5      318.5      122.5             7.0   \n",
       "58                   0.86         588.0      294.0      147.0             7.0   \n",
       "204                  0.82         612.5      318.5      147.0             7.0   \n",
       "284                  0.62         808.5      367.5      220.5             3.5   \n",
       "14                   0.82         612.5      318.5      147.0             7.0   \n",
       "\n",
       "     orientation  glazing_area  glazing_area_distribution  \n",
       "55             5           0.1                          1  \n",
       "58             4           0.1                          1  \n",
       "204            2           0.1                          4  \n",
       "284            2           0.1                          5  \n",
       "14             4           0.0                          0  "
      ]
     },
     "execution_count": 32,
     "metadata": {},
     "output_type": "execute_result"
    }
   ],
   "source": [
    "df_train.head()\n"
   ]
  },
  {
   "cell_type": "code",
   "execution_count": 34,
   "id": "0f987f4e",
   "metadata": {},
   "outputs": [],
   "source": [
    "from sklearn.feature_extraction import DictVectorizer"
   ]
  },
  {
   "cell_type": "code",
   "execution_count": 35,
   "id": "237b96e1",
   "metadata": {},
   "outputs": [],
   "source": [
    "#@ IMPLEMENTATION OF DICTVECTORIZER:\n",
    "numerical = [\n",
    "    'relative_compactness', 'surface_area', 'wall_area', 'roof_area',\n",
    "    'overall_height', 'orientation', 'glazing_area',\n",
    "    'glazing_area_distribution'\n",
    "]\n",
    "\n",
    "train_dict = df_train[numerical].to_dict(orient='records')\n",
    "\n",
    "dv = DictVectorizer(sparse=False)\n",
    "X_train = dv.fit_transform(train_dict)\n",
    "\n",
    "val_dict = df_val[numerical].to_dict(orient='records')\n",
    "X_val = dv.transform(val_dict)"
   ]
  },
  {
   "cell_type": "markdown",
   "id": "1511003b",
   "metadata": {},
   "source": [
    "# Models"
   ]
  },
  {
   "cell_type": "markdown",
   "id": "4cfc179a",
   "metadata": {},
   "source": [
    "# Linear Regression|"
   ]
  },
  {
   "cell_type": "code",
   "execution_count": 36,
   "id": "cac6f4cb",
   "metadata": {},
   "outputs": [
    {
     "data": {
      "application/javascript": [
       "\n",
       "        if (window._pyforest_update_imports_cell) { window._pyforest_update_imports_cell('from sklearn.linear_model import LinearRegression'); }\n",
       "    "
      ],
      "text/plain": [
       "<IPython.core.display.Javascript object>"
      ]
     },
     "metadata": {},
     "output_type": "display_data"
    },
    {
     "data": {
      "text/plain": [
       "LinearRegression()"
      ]
     },
     "execution_count": 36,
     "metadata": {},
     "output_type": "execute_result"
    }
   ],
   "source": [
    "model = LinearRegression()\n",
    "model.fit(X_train, y_train)"
   ]
  },
  {
   "cell_type": "code",
   "execution_count": 40,
   "id": "5262efb2",
   "metadata": {},
   "outputs": [],
   "source": [
    "from sklearn.metrics import r2_score\n",
    "from sklearn.metrics import mean_squared_error"
   ]
  },
  {
   "cell_type": "code",
   "execution_count": 41,
   "id": "0e60fb20",
   "metadata": {},
   "outputs": [
    {
     "name": "stdout",
     "output_type": "stream",
     "text": [
      "r2 score validation : 0.8957\n",
      "RMSE validation : 3.2497\n"
     ]
    }
   ],
   "source": [
    "y_pred = model.predict(X_val)\n",
    "\n",
    "r2_score_val = r2_score(y_val, y_pred)\n",
    "print(f'r2 score validation : {r2_score_val:.4f}')\n",
    "rmse_val = np.sqrt(mean_squared_error(y_val, y_pred))\n",
    "print(f'RMSE validation : {rmse_val:.4f}')"
   ]
  },
  {
   "cell_type": "markdown",
   "id": "3a380581",
   "metadata": {},
   "source": [
    "# Ridge"
   ]
  },
  {
   "cell_type": "code",
   "execution_count": 42,
   "id": "1b9a58a1",
   "metadata": {},
   "outputs": [],
   "source": [
    "alpha_values = [0, 0.01, 0.1, 0.5, 1, 10]"
   ]
  },
  {
   "cell_type": "code",
   "execution_count": 43,
   "id": "210eaf76",
   "metadata": {},
   "outputs": [
    {
     "data": {
      "application/javascript": [
       "\n",
       "        if (window._pyforest_update_imports_cell) { window._pyforest_update_imports_cell('from sklearn.linear_model import Ridge\\nfrom sklearn.linear_model import LinearRegression'); }\n",
       "    "
      ],
      "text/plain": [
       "<IPython.core.display.Javascript object>"
      ]
     },
     "metadata": {},
     "output_type": "display_data"
    },
    {
     "name": "stdout",
     "output_type": "stream",
     "text": [
      "alpha : 0 - RMSE: 3.24901, r2 score: 0.89571\n"
     ]
    },
    {
     "data": {
      "application/javascript": [
       "\n",
       "        if (window._pyforest_update_imports_cell) { window._pyforest_update_imports_cell('from sklearn.linear_model import Ridge\\nfrom sklearn.linear_model import LinearRegression'); }\n",
       "    "
      ],
      "text/plain": [
       "<IPython.core.display.Javascript object>"
      ]
     },
     "metadata": {},
     "output_type": "display_data"
    },
    {
     "name": "stdout",
     "output_type": "stream",
     "text": [
      "alpha : 0.01 - RMSE: 3.25586, r2 score: 0.89525\n"
     ]
    },
    {
     "data": {
      "application/javascript": [
       "\n",
       "        if (window._pyforest_update_imports_cell) { window._pyforest_update_imports_cell('from sklearn.linear_model import Ridge\\nfrom sklearn.linear_model import LinearRegression'); }\n",
       "    "
      ],
      "text/plain": [
       "<IPython.core.display.Javascript object>"
      ]
     },
     "metadata": {},
     "output_type": "display_data"
    },
    {
     "name": "stdout",
     "output_type": "stream",
     "text": [
      "alpha : 0.1 - RMSE: 3.29889, r2 score: 0.89244\n"
     ]
    },
    {
     "data": {
      "application/javascript": [
       "\n",
       "        if (window._pyforest_update_imports_cell) { window._pyforest_update_imports_cell('from sklearn.linear_model import Ridge\\nfrom sklearn.linear_model import LinearRegression'); }\n",
       "    "
      ],
      "text/plain": [
       "<IPython.core.display.Javascript object>"
      ]
     },
     "metadata": {},
     "output_type": "display_data"
    },
    {
     "name": "stdout",
     "output_type": "stream",
     "text": [
      "alpha : 0.5 - RMSE: 3.33624, r2 score: 0.88999\n"
     ]
    },
    {
     "data": {
      "application/javascript": [
       "\n",
       "        if (window._pyforest_update_imports_cell) { window._pyforest_update_imports_cell('from sklearn.linear_model import Ridge\\nfrom sklearn.linear_model import LinearRegression'); }\n",
       "    "
      ],
      "text/plain": [
       "<IPython.core.display.Javascript object>"
      ]
     },
     "metadata": {},
     "output_type": "display_data"
    },
    {
     "name": "stdout",
     "output_type": "stream",
     "text": [
      "alpha : 1 - RMSE: 3.35336, r2 score: 0.88887\n"
     ]
    },
    {
     "data": {
      "application/javascript": [
       "\n",
       "        if (window._pyforest_update_imports_cell) { window._pyforest_update_imports_cell('from sklearn.linear_model import Ridge\\nfrom sklearn.linear_model import LinearRegression'); }\n",
       "    "
      ],
      "text/plain": [
       "<IPython.core.display.Javascript object>"
      ]
     },
     "metadata": {},
     "output_type": "display_data"
    },
    {
     "name": "stdout",
     "output_type": "stream",
     "text": [
      "alpha : 10 - RMSE: 3.66813, r2 score: 0.86741\n"
     ]
    }
   ],
   "source": [
    "for alpha in alpha_values:\n",
    "    RG = Ridge(alpha=alpha, random_state=None)\n",
    "    ridge = RG.fit(X_train, y_train)\n",
    "\n",
    "    y_pred = ridge.predict(X_val)\n",
    "\n",
    "    r2_score_val = r2_score(y_val, y_pred)\n",
    "    rmse_val = np.sqrt(mean_squared_error(y_val, y_pred))\n",
    "    print(\n",
    "        f\"alpha : {alpha} - RMSE: {rmse_val:.5f}, r2 score: {r2_score_val:.5f}\")"
   ]
  },
  {
   "cell_type": "markdown",
   "id": "da58cb4e",
   "metadata": {},
   "source": [
    "We select alpha=0.01 as the best model\n",
    "\n",
    "1. The regularization strength is determined by alpha in this case.\n",
    "2. If it is zero, it behaves similarly to LinearRegression.\n",
    "3. Smoothness improves as alpha increases (reduces complexity by decreasing variance)\n",
    "4. A decrease in alpha raises the magnitude of the coefficients (increases complexity by decreasing bias)"
   ]
  },
  {
   "cell_type": "markdown",
   "id": "32526036",
   "metadata": {},
   "source": [
    "# Decision Trees"
   ]
  },
  {
   "cell_type": "code",
   "execution_count": 45,
   "id": "4ee2b4d8",
   "metadata": {},
   "outputs": [],
   "source": [
    "from sklearn.tree import DecisionTreeRegressor"
   ]
  },
  {
   "cell_type": "code",
   "execution_count": 46,
   "id": "593bdb7a",
   "metadata": {},
   "outputs": [
    {
     "data": {
      "text/plain": [
       "DecisionTreeRegressor(max_depth=1)"
      ]
     },
     "execution_count": 46,
     "metadata": {},
     "output_type": "execute_result"
    }
   ],
   "source": [
    "dt = DecisionTreeRegressor(max_depth=1)\n",
    "dt.fit(X_train, y_train)"
   ]
  },
  {
   "cell_type": "code",
   "execution_count": 47,
   "id": "54bfd69e",
   "metadata": {},
   "outputs": [
    {
     "name": "stdout",
     "output_type": "stream",
     "text": [
      "r2 score validation : 0.8023\n",
      "RMSE validation : 4.4925\n"
     ]
    }
   ],
   "source": [
    "y_pred = dt.predict(X_val)\n",
    "\n",
    "r2_score_val = r2_score(y_val, y_pred)\n",
    "print(f'r2 score validation : {r2_score_val:.4f}')\n",
    "rmse_val = np.sqrt(mean_squared_error(y_val, y_pred))\n",
    "print(f'RMSE validation : {rmse_val:.4f}')"
   ]
  },
  {
   "cell_type": "markdown",
   "id": "ea7db414",
   "metadata": {},
   "source": [
    "# Tuning hyperparameters"
   ]
  },
  {
   "cell_type": "markdown",
   "id": "9e3be73c",
   "metadata": {},
   "source": [
    "We can see the scores are not that good. Let's try to check the parameters."
   ]
  },
  {
   "cell_type": "code",
   "execution_count": 48,
   "id": "c8f32bf4",
   "metadata": {},
   "outputs": [],
   "source": [
    "depths = [1, 2, 3, 4, 5, 6, 10, 15, 20, None]\n",
    "\n",
    "for depth in depths:\n",
    "    dt = DecisionTreeRegressor(max_depth=depth)\n",
    "    dt.fit(X_train, y_train)\n",
    "    y_pred = dt.predict(X_val)\n",
    "    rmse_val = np.sqrt(mean_squared_error(y_val, y_pred))"
   ]
  },
  {
   "cell_type": "code",
   "execution_count": 49,
   "id": "ee68ba87",
   "metadata": {},
   "outputs": [],
   "source": [
    "scores_val = []\n",
    "\n",
    "for depth in [4, 5, 6]:\n",
    "    for s in [1, 5, 10, 15, 20, 500, 100, 200]:\n",
    "        dt = DecisionTreeRegressor(max_depth=depth, min_samples_leaf=s)\n",
    "        dt.fit(X_train, y_train)\n",
    "        y_pred = dt.predict(X_val)\n",
    "        rmse_val = np.sqrt(mean_squared_error(y_val, y_pred))\n",
    "        scores_val.append((depth, s, rmse_val))"
   ]
  },
  {
   "cell_type": "code",
   "execution_count": 50,
   "id": "59f959e6",
   "metadata": {},
   "outputs": [
    {
     "data": {
      "text/html": [
       "<div>\n",
       "<style scoped>\n",
       "    .dataframe tbody tr th:only-of-type {\n",
       "        vertical-align: middle;\n",
       "    }\n",
       "\n",
       "    .dataframe tbody tr th {\n",
       "        vertical-align: top;\n",
       "    }\n",
       "\n",
       "    .dataframe thead tr th {\n",
       "        text-align: left;\n",
       "    }\n",
       "\n",
       "    .dataframe thead tr:last-of-type th {\n",
       "        text-align: right;\n",
       "    }\n",
       "</style>\n",
       "<table border=\"1\" class=\"dataframe\">\n",
       "  <thead>\n",
       "    <tr>\n",
       "      <th></th>\n",
       "      <th colspan=\"3\" halign=\"left\">rmse_val</th>\n",
       "    </tr>\n",
       "    <tr>\n",
       "      <th>max_depth</th>\n",
       "      <th>4</th>\n",
       "      <th>5</th>\n",
       "      <th>6</th>\n",
       "    </tr>\n",
       "    <tr>\n",
       "      <th>min_samples_leaf</th>\n",
       "      <th></th>\n",
       "      <th></th>\n",
       "      <th></th>\n",
       "    </tr>\n",
       "  </thead>\n",
       "  <tbody>\n",
       "    <tr>\n",
       "      <th>1</th>\n",
       "      <td>2.128</td>\n",
       "      <td>1.738</td>\n",
       "      <td>1.521</td>\n",
       "    </tr>\n",
       "    <tr>\n",
       "      <th>5</th>\n",
       "      <td>2.103</td>\n",
       "      <td>1.831</td>\n",
       "      <td>1.561</td>\n",
       "    </tr>\n",
       "    <tr>\n",
       "      <th>10</th>\n",
       "      <td>2.103</td>\n",
       "      <td>1.992</td>\n",
       "      <td>1.775</td>\n",
       "    </tr>\n",
       "    <tr>\n",
       "      <th>15</th>\n",
       "      <td>2.331</td>\n",
       "      <td>2.254</td>\n",
       "      <td>2.155</td>\n",
       "    </tr>\n",
       "    <tr>\n",
       "      <th>20</th>\n",
       "      <td>2.261</td>\n",
       "      <td>2.179</td>\n",
       "      <td>2.179</td>\n",
       "    </tr>\n",
       "    <tr>\n",
       "      <th>100</th>\n",
       "      <td>4.007</td>\n",
       "      <td>4.007</td>\n",
       "      <td>4.007</td>\n",
       "    </tr>\n",
       "    <tr>\n",
       "      <th>200</th>\n",
       "      <td>4.492</td>\n",
       "      <td>4.492</td>\n",
       "      <td>4.492</td>\n",
       "    </tr>\n",
       "    <tr>\n",
       "      <th>500</th>\n",
       "      <td>10.230</td>\n",
       "      <td>10.230</td>\n",
       "      <td>10.230</td>\n",
       "    </tr>\n",
       "  </tbody>\n",
       "</table>\n",
       "</div>"
      ],
      "text/plain": [
       "                 rmse_val                \n",
       "max_depth               4       5       6\n",
       "min_samples_leaf                         \n",
       "1                   2.128   1.738   1.521\n",
       "5                   2.103   1.831   1.561\n",
       "10                  2.103   1.992   1.775\n",
       "15                  2.331   2.254   2.155\n",
       "20                  2.261   2.179   2.179\n",
       "100                 4.007   4.007   4.007\n",
       "200                 4.492   4.492   4.492\n",
       "500                10.230  10.230  10.230"
      ]
     },
     "execution_count": 50,
     "metadata": {},
     "output_type": "execute_result"
    }
   ],
   "source": [
    "columns = ['max_depth', 'min_samples_leaf', 'rmse_val']\n",
    "df_scores = pd.DataFrame(scores_val, columns=columns)\n",
    "\n",
    "df_scores_pivot_val = df_scores.pivot(index='min_samples_leaf',\n",
    "                                      columns=['max_depth'],\n",
    "                                      values=['rmse_val'])\n",
    "df_scores_pivot_val.round(3)"
   ]
  },
  {
   "cell_type": "code",
   "execution_count": 51,
   "id": "9bde1581",
   "metadata": {},
   "outputs": [],
   "source": [
    "scores_val = []\n",
    "\n",
    "for sample in [2, 3, 4, 5, 6]:\n",
    "    for s in [1, 5, 10, 15]:\n",
    "        dt = DecisionTreeRegressor(max_depth=6,\n",
    "                                   min_samples_leaf=s,\n",
    "                                   min_samples_split=sample)\n",
    "        dt.fit(X_train, y_train)\n",
    "        y_pred = dt.predict(X_val)\n",
    "        rmse_val = np.sqrt(mean_squared_error(y_val, y_pred))\n",
    "        scores_val.append((sample, s, rmse_val))"
   ]
  },
  {
   "cell_type": "code",
   "execution_count": 52,
   "id": "107c88fa",
   "metadata": {},
   "outputs": [
    {
     "data": {
      "text/html": [
       "<div>\n",
       "<style scoped>\n",
       "    .dataframe tbody tr th:only-of-type {\n",
       "        vertical-align: middle;\n",
       "    }\n",
       "\n",
       "    .dataframe tbody tr th {\n",
       "        vertical-align: top;\n",
       "    }\n",
       "\n",
       "    .dataframe thead tr th {\n",
       "        text-align: left;\n",
       "    }\n",
       "\n",
       "    .dataframe thead tr:last-of-type th {\n",
       "        text-align: right;\n",
       "    }\n",
       "</style>\n",
       "<table border=\"1\" class=\"dataframe\">\n",
       "  <thead>\n",
       "    <tr>\n",
       "      <th></th>\n",
       "      <th colspan=\"5\" halign=\"left\">rmse_val</th>\n",
       "    </tr>\n",
       "    <tr>\n",
       "      <th>min_samples_split</th>\n",
       "      <th>2</th>\n",
       "      <th>3</th>\n",
       "      <th>4</th>\n",
       "      <th>5</th>\n",
       "      <th>6</th>\n",
       "    </tr>\n",
       "    <tr>\n",
       "      <th>min_samples_leaf</th>\n",
       "      <th></th>\n",
       "      <th></th>\n",
       "      <th></th>\n",
       "      <th></th>\n",
       "      <th></th>\n",
       "    </tr>\n",
       "  </thead>\n",
       "  <tbody>\n",
       "    <tr>\n",
       "      <th>1</th>\n",
       "      <td>1.521</td>\n",
       "      <td>1.521</td>\n",
       "      <td>1.521</td>\n",
       "      <td>1.527</td>\n",
       "      <td>1.527</td>\n",
       "    </tr>\n",
       "    <tr>\n",
       "      <th>5</th>\n",
       "      <td>1.561</td>\n",
       "      <td>1.561</td>\n",
       "      <td>1.561</td>\n",
       "      <td>1.561</td>\n",
       "      <td>1.561</td>\n",
       "    </tr>\n",
       "    <tr>\n",
       "      <th>10</th>\n",
       "      <td>1.775</td>\n",
       "      <td>1.775</td>\n",
       "      <td>1.775</td>\n",
       "      <td>1.775</td>\n",
       "      <td>1.775</td>\n",
       "    </tr>\n",
       "    <tr>\n",
       "      <th>15</th>\n",
       "      <td>2.155</td>\n",
       "      <td>2.155</td>\n",
       "      <td>2.155</td>\n",
       "      <td>2.155</td>\n",
       "      <td>2.155</td>\n",
       "    </tr>\n",
       "  </tbody>\n",
       "</table>\n",
       "</div>"
      ],
      "text/plain": [
       "                  rmse_val                            \n",
       "min_samples_split        2      3      4      5      6\n",
       "min_samples_leaf                                      \n",
       "1                    1.521  1.521  1.521  1.527  1.527\n",
       "5                    1.561  1.561  1.561  1.561  1.561\n",
       "10                   1.775  1.775  1.775  1.775  1.775\n",
       "15                   2.155  2.155  2.155  2.155  2.155"
      ]
     },
     "execution_count": 52,
     "metadata": {},
     "output_type": "execute_result"
    }
   ],
   "source": [
    "columns = ['min_samples_split', 'min_samples_leaf', 'rmse_val']\n",
    "df_scores = pd.DataFrame(scores_val, columns=columns)\n",
    "\n",
    "df_scores_pivot_val = df_scores.pivot(index='min_samples_leaf',\n",
    "                                      columns=['min_samples_split'],\n",
    "                                      values=['rmse_val'])\n",
    "df_scores_pivot_val.round(3)"
   ]
  },
  {
   "cell_type": "code",
   "execution_count": 53,
   "id": "23e0d80a",
   "metadata": {},
   "outputs": [
    {
     "data": {
      "text/plain": [
       "<AxesSubplot:xlabel='None-min_samples_split', ylabel='min_samples_leaf'>"
      ]
     },
     "execution_count": 53,
     "metadata": {},
     "output_type": "execute_result"
    },
    {
     "data": {
      "image/png": "[encoded data removed]",
      "text/plain": [
       "<Figure size 432x288 with 2 Axes>"
      ]
     },
     "metadata": {},
     "output_type": "display_data"
    }
   ],
   "source": [
    "sns.heatmap(df_scores_pivot_val, annot=True, fmt=\".3f\")\n"
   ]
  },
  {
   "cell_type": "markdown",
   "id": "6ca7aa14",
   "metadata": {},
   "source": [
    "We select the best model with max_depth=6,min_samples_leaf=5,min_samples_split=4"
   ]
  },
  {
   "cell_type": "code",
   "execution_count": 54,
   "id": "fcda90ac",
   "metadata": {},
   "outputs": [
    {
     "name": "stdout",
     "output_type": "stream",
     "text": [
      "r2 score validation : 0.9751\n",
      "adjusted r2 score validation : 0.9738\n"
     ]
    },
    {
     "data": {
      "application/javascript": [
       "\n",
       "        if (window._pyforest_update_imports_cell) { window._pyforest_update_imports_cell('from sklearn import metrics\\nfrom sklearn.linear_model import Ridge\\nfrom sklearn.linear_model import LinearRegression'); }\n",
       "    "
      ],
      "text/plain": [
       "<IPython.core.display.Javascript object>"
      ]
     },
     "metadata": {},
     "output_type": "display_data"
    },
    {
     "name": "stdout",
     "output_type": "stream",
     "text": [
      "MAE validation : 0.9345\n",
      "MSE validation : 2.4352\n",
      "RMSE validation : 1.5605\n"
     ]
    }
   ],
   "source": [
    "dt = DecisionTreeRegressor(max_depth=6,\n",
    "                           min_samples_leaf=5,\n",
    "                           min_samples_split=4,\n",
    "                           random_state=None)\n",
    "dt.fit(X_train, y_train)\n",
    "y_pred = dt.predict(X_val)\n",
    "\n",
    "r2_score_val = r2_score(y_val, y_pred)\n",
    "print(f'r2 score validation : {r2_score_val:.4f}')\n",
    "adj_r2_score_val = 1 - (1 - r2_score(y_val, y_pred)) * (len(y_val) - 1) / (\n",
    "    len(y_val) - X_val.shape[1] - 1)\n",
    "print(f'adjusted r2 score validation : {adj_r2_score_val:.4f}')\n",
    "mae_val = metrics.mean_absolute_error(y_val, y_pred)\n",
    "print(f'MAE validation : {mae_val:.4f}')\n",
    "mse_val = mean_squared_error(y_val, y_pred)\n",
    "print(f'MSE validation : {mse_val:.4f}')\n",
    "rmse_val = np.sqrt(mean_squared_error(y_val, y_pred))\n",
    "print(f'RMSE validation : {rmse_val:.4f}')"
   ]
  },
  {
   "cell_type": "markdown",
   "id": "22b6a90a",
   "metadata": {},
   "source": [
    "# Random forest"
   ]
  },
  {
   "cell_type": "code",
   "execution_count": 55,
   "id": "0f53a2c3",
   "metadata": {},
   "outputs": [
    {
     "data": {
      "application/javascript": [
       "\n",
       "        if (window._pyforest_update_imports_cell) { window._pyforest_update_imports_cell('from sklearn import metrics\\nfrom sklearn.ensemble import RandomForestRegressor\\nfrom sklearn.linear_model import Ridge\\nfrom sklearn.linear_model import LinearRegression'); }\n",
       "    "
      ],
      "text/plain": [
       "<IPython.core.display.Javascript object>"
      ]
     },
     "metadata": {},
     "output_type": "display_data"
    },
    {
     "name": "stdout",
     "output_type": "stream",
     "text": [
      "RMSE validation : 1.6471\n"
     ]
    }
   ],
   "source": [
    "rf = RandomForestRegressor(n_estimators=10, n_jobs=-1)\n",
    "rf.fit(X_train, y_train)\n",
    "y_pred = rf.predict(X_val)\n",
    "rmse_val = np.sqrt(mean_squared_error(y_val, y_pred))\n",
    "print(f'RMSE validation : {rmse_val:.4f}')"
   ]
  },
  {
   "cell_type": "markdown",
   "id": "2b2a4581",
   "metadata": {},
   "source": [
    "# Tuning hyperparameters"
   ]
  },
  {
   "cell_type": "code",
   "execution_count": 56,
   "id": "b5876368",
   "metadata": {},
   "outputs": [
    {
     "data": {
      "application/vnd.jupyter.widget-view+json": {
       "model_id": "8ced7e3198bd4132b7681c530702ecbe",
       "version_major": 2,
       "version_minor": 0
      },
      "text/plain": [
       "  0%|          | 0/20 [00:00<?, ?it/s]"
      ]
     },
     "metadata": {},
     "output_type": "display_data"
    },
    {
     "data": {
      "application/javascript": [
       "\n",
       "        if (window._pyforest_update_imports_cell) { window._pyforest_update_imports_cell('from sklearn import metrics\\nfrom sklearn.ensemble import RandomForestRegressor\\nfrom sklearn.linear_model import Ridge\\nfrom sklearn.linear_model import LinearRegression'); }\n",
       "    "
      ],
      "text/plain": [
       "<IPython.core.display.Javascript object>"
      ]
     },
     "metadata": {},
     "output_type": "display_data"
    },
    {
     "data": {
      "application/javascript": [
       "\n",
       "        if (window._pyforest_update_imports_cell) { window._pyforest_update_imports_cell('from sklearn import metrics\\nfrom sklearn.ensemble import RandomForestRegressor\\nfrom sklearn.linear_model import Ridge\\nfrom sklearn.linear_model import LinearRegression'); }\n",
       "    "
      ],
      "text/plain": [
       "<IPython.core.display.Javascript object>"
      ]
     },
     "metadata": {},
     "output_type": "display_data"
    },
    {
     "data": {
      "application/javascript": [
       "\n",
       "        if (window._pyforest_update_imports_cell) { window._pyforest_update_imports_cell('from sklearn import metrics\\nfrom sklearn.ensemble import RandomForestRegressor\\nfrom sklearn.linear_model import Ridge\\nfrom sklearn.linear_model import LinearRegression'); }\n",
       "    "
      ],
      "text/plain": [
       "<IPython.core.display.Javascript object>"
      ]
     },
     "metadata": {},
     "output_type": "display_data"
    },
    {
     "data": {
      "application/javascript": [
       "\n",
       "        if (window._pyforest_update_imports_cell) { window._pyforest_update_imports_cell('from sklearn import metrics\\nfrom sklearn.ensemble import RandomForestRegressor\\nfrom sklearn.linear_model import Ridge\\nfrom sklearn.linear_model import LinearRegression'); }\n",
       "    "
      ],
      "text/plain": [
       "<IPython.core.display.Javascript object>"
      ]
     },
     "metadata": {},
     "output_type": "display_data"
    },
    {
     "data": {
      "application/javascript": [
       "\n",
       "        if (window._pyforest_update_imports_cell) { window._pyforest_update_imports_cell('from sklearn import metrics\\nfrom sklearn.ensemble import RandomForestRegressor\\nfrom sklearn.linear_model import Ridge\\nfrom sklearn.linear_model import LinearRegression'); }\n",
       "    "
      ],
      "text/plain": [
       "<IPython.core.display.Javascript object>"
      ]
     },
     "metadata": {},
     "output_type": "display_data"
    },
    {
     "data": {
      "application/javascript": [
       "\n",
       "        if (window._pyforest_update_imports_cell) { window._pyforest_update_imports_cell('from sklearn import metrics\\nfrom sklearn.ensemble import RandomForestRegressor\\nfrom sklearn.linear_model import Ridge\\nfrom sklearn.linear_model import LinearRegression'); }\n",
       "    "
      ],
      "text/plain": [
       "<IPython.core.display.Javascript object>"
      ]
     },
     "metadata": {},
     "output_type": "display_data"
    },
    {
     "data": {
      "application/javascript": [
       "\n",
       "        if (window._pyforest_update_imports_cell) { window._pyforest_update_imports_cell('from sklearn import metrics\\nfrom sklearn.ensemble import RandomForestRegressor\\nfrom sklearn.linear_model import Ridge\\nfrom sklearn.linear_model import LinearRegression'); }\n",
       "    "
      ],
      "text/plain": [
       "<IPython.core.display.Javascript object>"
      ]
     },
     "metadata": {},
     "output_type": "display_data"
    },
    {
     "data": {
      "application/javascript": [
       "\n",
       "        if (window._pyforest_update_imports_cell) { window._pyforest_update_imports_cell('from sklearn import metrics\\nfrom sklearn.ensemble import RandomForestRegressor\\nfrom sklearn.linear_model import Ridge\\nfrom sklearn.linear_model import LinearRegression'); }\n",
       "    "
      ],
      "text/plain": [
       "<IPython.core.display.Javascript object>"
      ]
     },
     "metadata": {},
     "output_type": "display_data"
    },
    {
     "data": {
      "application/javascript": [
       "\n",
       "        if (window._pyforest_update_imports_cell) { window._pyforest_update_imports_cell('from sklearn import metrics\\nfrom sklearn.ensemble import RandomForestRegressor\\nfrom sklearn.linear_model import Ridge\\nfrom sklearn.linear_model import LinearRegression'); }\n",
       "    "
      ],
      "text/plain": [
       "<IPython.core.display.Javascript object>"
      ]
     },
     "metadata": {},
     "output_type": "display_data"
    },
    {
     "data": {
      "application/javascript": [
       "\n",
       "        if (window._pyforest_update_imports_cell) { window._pyforest_update_imports_cell('from sklearn import metrics\\nfrom sklearn.ensemble import RandomForestRegressor\\nfrom sklearn.linear_model import Ridge\\nfrom sklearn.linear_model import LinearRegression'); }\n",
       "    "
      ],
      "text/plain": [
       "<IPython.core.display.Javascript object>"
      ]
     },
     "metadata": {},
     "output_type": "display_data"
    },
    {
     "data": {
      "application/javascript": [
       "\n",
       "        if (window._pyforest_update_imports_cell) { window._pyforest_update_imports_cell('from sklearn import metrics\\nfrom sklearn.ensemble import RandomForestRegressor\\nfrom sklearn.linear_model import Ridge\\nfrom sklearn.linear_model import LinearRegression'); }\n",
       "    "
      ],
      "text/plain": [
       "<IPython.core.display.Javascript object>"
      ]
     },
     "metadata": {},
     "output_type": "display_data"
    },
    {
     "data": {
      "application/javascript": [
       "\n",
       "        if (window._pyforest_update_imports_cell) { window._pyforest_update_imports_cell('from sklearn import metrics\\nfrom sklearn.ensemble import RandomForestRegressor\\nfrom sklearn.linear_model import Ridge\\nfrom sklearn.linear_model import LinearRegression'); }\n",
       "    "
      ],
      "text/plain": [
       "<IPython.core.display.Javascript object>"
      ]
     },
     "metadata": {},
     "output_type": "display_data"
    },
    {
     "data": {
      "application/javascript": [
       "\n",
       "        if (window._pyforest_update_imports_cell) { window._pyforest_update_imports_cell('from sklearn import metrics\\nfrom sklearn.ensemble import RandomForestRegressor\\nfrom sklearn.linear_model import Ridge\\nfrom sklearn.linear_model import LinearRegression'); }\n",
       "    "
      ],
      "text/plain": [
       "<IPython.core.display.Javascript object>"
      ]
     },
     "metadata": {},
     "output_type": "display_data"
    },
    {
     "data": {
      "application/javascript": [
       "\n",
       "        if (window._pyforest_update_imports_cell) { window._pyforest_update_imports_cell('from sklearn import metrics\\nfrom sklearn.ensemble import RandomForestRegressor\\nfrom sklearn.linear_model import Ridge\\nfrom sklearn.linear_model import LinearRegression'); }\n",
       "    "
      ],
      "text/plain": [
       "<IPython.core.display.Javascript object>"
      ]
     },
     "metadata": {},
     "output_type": "display_data"
    },
    {
     "data": {
      "application/javascript": [
       "\n",
       "        if (window._pyforest_update_imports_cell) { window._pyforest_update_imports_cell('from sklearn import metrics\\nfrom sklearn.ensemble import RandomForestRegressor\\nfrom sklearn.linear_model import Ridge\\nfrom sklearn.linear_model import LinearRegression'); }\n",
       "    "
      ],
      "text/plain": [
       "<IPython.core.display.Javascript object>"
      ]
     },
     "metadata": {},
     "output_type": "display_data"
    },
    {
     "data": {
      "application/javascript": [
       "\n",
       "        if (window._pyforest_update_imports_cell) { window._pyforest_update_imports_cell('from sklearn import metrics\\nfrom sklearn.ensemble import RandomForestRegressor\\nfrom sklearn.linear_model import Ridge\\nfrom sklearn.linear_model import LinearRegression'); }\n",
       "    "
      ],
      "text/plain": [
       "<IPython.core.display.Javascript object>"
      ]
     },
     "metadata": {},
     "output_type": "display_data"
    },
    {
     "data": {
      "application/javascript": [
       "\n",
       "        if (window._pyforest_update_imports_cell) { window._pyforest_update_imports_cell('from sklearn import metrics\\nfrom sklearn.ensemble import RandomForestRegressor\\nfrom sklearn.linear_model import Ridge\\nfrom sklearn.linear_model import LinearRegression'); }\n",
       "    "
      ],
      "text/plain": [
       "<IPython.core.display.Javascript object>"
      ]
     },
     "metadata": {},
     "output_type": "display_data"
    },
    {
     "data": {
      "application/javascript": [
       "\n",
       "        if (window._pyforest_update_imports_cell) { window._pyforest_update_imports_cell('from sklearn import metrics\\nfrom sklearn.ensemble import RandomForestRegressor\\nfrom sklearn.linear_model import Ridge\\nfrom sklearn.linear_model import LinearRegression'); }\n",
       "    "
      ],
      "text/plain": [
       "<IPython.core.display.Javascript object>"
      ]
     },
     "metadata": {},
     "output_type": "display_data"
    },
    {
     "data": {
      "application/javascript": [
       "\n",
       "        if (window._pyforest_update_imports_cell) { window._pyforest_update_imports_cell('from sklearn import metrics\\nfrom sklearn.ensemble import RandomForestRegressor\\nfrom sklearn.linear_model import Ridge\\nfrom sklearn.linear_model import LinearRegression'); }\n",
       "    "
      ],
      "text/plain": [
       "<IPython.core.display.Javascript object>"
      ]
     },
     "metadata": {},
     "output_type": "display_data"
    },
    {
     "data": {
      "application/javascript": [
       "\n",
       "        if (window._pyforest_update_imports_cell) { window._pyforest_update_imports_cell('from sklearn import metrics\\nfrom sklearn.ensemble import RandomForestRegressor\\nfrom sklearn.linear_model import Ridge\\nfrom sklearn.linear_model import LinearRegression'); }\n",
       "    "
      ],
      "text/plain": [
       "<IPython.core.display.Javascript object>"
      ]
     },
     "metadata": {},
     "output_type": "display_data"
    },
    {
     "data": {
      "text/plain": [
       "[<matplotlib.lines.Line2D at 0x2100b627c40>]"
      ]
     },
     "execution_count": 56,
     "metadata": {},
     "output_type": "execute_result"
    },
    {
     "data": {
      "image/png": "[encoded data removed]",
      "text/plain": [
       "<Figure size 432x288 with 1 Axes>"
      ]
     },
     "metadata": {},
     "output_type": "display_data"
    }
   ],
   "source": [
    "from tqdm.auto import tqdm\n",
    "\n",
    "scores = []\n",
    "\n",
    "for n in tqdm(range(10, 201, 10)):\n",
    "    rf = RandomForestRegressor(n_estimators=n, random_state=None, n_jobs=-1)\n",
    "    rf.fit(X_train, y_train)\n",
    "\n",
    "    y_pred = rf.predict(X_val)\n",
    "    score = np.sqrt(mean_squared_error(y_val, y_pred))\n",
    "\n",
    "    scores.append((n, score))\n",
    "\n",
    "df_scores = pd.DataFrame(scores, columns=['n_estimators', 'rmse'])\n",
    "plt.plot(df_scores.n_estimators, df_scores.rmse.round(3))"
   ]
  },
  {
   "cell_type": "markdown",
   "id": "b1d2c356",
   "metadata": {},
   "source": [
    "Seems RMSE stops improving after 50 n_estimators.\n",
    "\n",
    "What about the best max_depth ?\n",
    "\n",
    "1. Try different values of max_depth: [20, 50, 100]\n",
    "2. For each of these values, try different values of n_estimators from 10 till 200 (with step 10)\n",
    "3. Fix the random seed: random_state=1=SEED"
   ]
  },
  {
   "cell_type": "code",
   "execution_count": 57,
   "id": "b90a6cec",
   "metadata": {},
   "outputs": [
    {
     "data": {
      "application/vnd.jupyter.widget-view+json": {
       "model_id": "92a64cf28d2c4cdeae2b534d8e3f6c36",
       "version_major": 2,
       "version_minor": 0
      },
      "text/plain": [
       "  0%|          | 0/4 [00:00<?, ?it/s]"
      ]
     },
     "metadata": {},
     "output_type": "display_data"
    },
    {
     "data": {
      "application/javascript": [
       "\n",
       "        if (window._pyforest_update_imports_cell) { window._pyforest_update_imports_cell('from sklearn import metrics\\nfrom sklearn.ensemble import RandomForestRegressor\\nfrom sklearn.linear_model import Ridge\\nfrom sklearn.linear_model import LinearRegression'); }\n",
       "    "
      ],
      "text/plain": [
       "<IPython.core.display.Javascript object>"
      ]
     },
     "metadata": {},
     "output_type": "display_data"
    },
    {
     "data": {
      "application/vnd.jupyter.widget-view+json": {
       "model_id": "7cc57021e3c44bb2b2a6451f50e00e56",
       "version_major": 2,
       "version_minor": 0
      },
      "text/plain": [
       "  0%|          | 0/20 [00:00<?, ?it/s]"
      ]
     },
     "metadata": {},
     "output_type": "display_data"
    },
    {
     "data": {
      "application/javascript": [
       "\n",
       "        if (window._pyforest_update_imports_cell) { window._pyforest_update_imports_cell('from sklearn import metrics\\nfrom sklearn.ensemble import RandomForestRegressor\\nfrom sklearn.linear_model import Ridge\\nfrom sklearn.linear_model import LinearRegression'); }\n",
       "    "
      ],
      "text/plain": [
       "<IPython.core.display.Javascript object>"
      ]
     },
     "metadata": {},
     "output_type": "display_data"
    },
    {
     "data": {
      "application/vnd.jupyter.widget-view+json": {
       "model_id": "26f24e02f35c45df9e0d583b7acc1e10",
       "version_major": 2,
       "version_minor": 0
      },
      "text/plain": [
       "  0%|          | 0/20 [00:00<?, ?it/s]"
      ]
     },
     "metadata": {},
     "output_type": "display_data"
    },
    {
     "data": {
      "application/javascript": [
       "\n",
       "        if (window._pyforest_update_imports_cell) { window._pyforest_update_imports_cell('from sklearn import metrics\\nfrom sklearn.ensemble import RandomForestRegressor\\nfrom sklearn.linear_model import Ridge\\nfrom sklearn.linear_model import LinearRegression'); }\n",
       "    "
      ],
      "text/plain": [
       "<IPython.core.display.Javascript object>"
      ]
     },
     "metadata": {},
     "output_type": "display_data"
    },
    {
     "data": {
      "application/vnd.jupyter.widget-view+json": {
       "model_id": "f6f1e7f98bb8477c860693c84cd71307",
       "version_major": 2,
       "version_minor": 0
      },
      "text/plain": [
       "  0%|          | 0/20 [00:00<?, ?it/s]"
      ]
     },
     "metadata": {},
     "output_type": "display_data"
    },
    {
     "data": {
      "application/javascript": [
       "\n",
       "        if (window._pyforest_update_imports_cell) { window._pyforest_update_imports_cell('from sklearn import metrics\\nfrom sklearn.ensemble import RandomForestRegressor\\nfrom sklearn.linear_model import Ridge\\nfrom sklearn.linear_model import LinearRegression'); }\n",
       "    "
      ],
      "text/plain": [
       "<IPython.core.display.Javascript object>"
      ]
     },
     "metadata": {},
     "output_type": "display_data"
    },
    {
     "data": {
      "application/vnd.jupyter.widget-view+json": {
       "model_id": "cfe3c551ef20442fa00be1642415ca2a",
       "version_major": 2,
       "version_minor": 0
      },
      "text/plain": [
       "  0%|          | 0/20 [00:00<?, ?it/s]"
      ]
     },
     "metadata": {},
     "output_type": "display_data"
    }
   ],
   "source": [
    "scores = []\n",
    "\n",
    "for d in tqdm([10, 15, 20, 25]):\n",
    "    rf = RandomForestRegressor(n_estimators=0,\n",
    "                               max_depth=d,\n",
    "                               random_state=None,\n",
    "                               n_jobs=-1,\n",
    "                               warm_start=True)\n",
    "\n",
    "    for n in tqdm(range(10, 201, 10)):\n",
    "        rf.n_estimators = n\n",
    "        rf.fit(X_train, y_train)\n",
    "\n",
    "        y_pred = rf.predict(X_val)\n",
    "        score = np.sqrt(mean_squared_error(y_val, y_pred))\n",
    "\n",
    "        scores.append((d, n, score))\n",
    "\n",
    "columns = ['max_depth', 'n_estimators', 'rmse']\n",
    "df_scores = pd.DataFrame(scores, columns=columns)"
   ]
  },
  {
   "cell_type": "code",
   "execution_count": 58,
   "id": "35048eea",
   "metadata": {},
   "outputs": [
    {
     "data": {
      "text/plain": [
       "<matplotlib.legend.Legend at 0x2100b4eb220>"
      ]
     },
     "execution_count": 58,
     "metadata": {},
     "output_type": "execute_result"
    },
    {
     "data": {
      "image/png": "[encoded data removed]",
      "text/plain": [
       "<Figure size 432x288 with 1 Axes>"
      ]
     },
     "metadata": {},
     "output_type": "display_data"
    }
   ],
   "source": [
    "for d in [10, 15, 20, 25]:\n",
    "    df_subset = df_scores[df_scores.max_depth == d]\n",
    "    plt.plot(df_subset.n_estimators, df_subset.rmse, label=d)\n",
    "\n",
    "plt.legend()"
   ]
  },
  {
   "cell_type": "code",
   "execution_count": 59,
   "id": "d0c6f91f",
   "metadata": {},
   "outputs": [
    {
     "data": {
      "application/javascript": [
       "\n",
       "        if (window._pyforest_update_imports_cell) { window._pyforest_update_imports_cell('from sklearn import metrics\\nfrom sklearn.ensemble import RandomForestRegressor\\nfrom sklearn.linear_model import Ridge\\nfrom sklearn.linear_model import LinearRegression'); }\n",
       "    "
      ],
      "text/plain": [
       "<IPython.core.display.Javascript object>"
      ]
     },
     "metadata": {},
     "output_type": "display_data"
    },
    {
     "data": {
      "application/javascript": [
       "\n",
       "        if (window._pyforest_update_imports_cell) { window._pyforest_update_imports_cell('from sklearn import metrics\\nfrom sklearn.ensemble import RandomForestRegressor\\nfrom sklearn.linear_model import Ridge\\nfrom sklearn.linear_model import LinearRegression'); }\n",
       "    "
      ],
      "text/plain": [
       "<IPython.core.display.Javascript object>"
      ]
     },
     "metadata": {},
     "output_type": "display_data"
    },
    {
     "data": {
      "application/javascript": [
       "\n",
       "        if (window._pyforest_update_imports_cell) { window._pyforest_update_imports_cell('from sklearn import metrics\\nfrom sklearn.ensemble import RandomForestRegressor\\nfrom sklearn.linear_model import Ridge\\nfrom sklearn.linear_model import LinearRegression'); }\n",
       "    "
      ],
      "text/plain": [
       "<IPython.core.display.Javascript object>"
      ]
     },
     "metadata": {},
     "output_type": "display_data"
    },
    {
     "data": {
      "application/javascript": [
       "\n",
       "        if (window._pyforest_update_imports_cell) { window._pyforest_update_imports_cell('from sklearn import metrics\\nfrom sklearn.ensemble import RandomForestRegressor\\nfrom sklearn.linear_model import Ridge\\nfrom sklearn.linear_model import LinearRegression'); }\n",
       "    "
      ],
      "text/plain": [
       "<IPython.core.display.Javascript object>"
      ]
     },
     "metadata": {},
     "output_type": "display_data"
    },
    {
     "data": {
      "application/javascript": [
       "\n",
       "        if (window._pyforest_update_imports_cell) { window._pyforest_update_imports_cell('from sklearn import metrics\\nfrom sklearn.ensemble import RandomForestRegressor\\nfrom sklearn.linear_model import Ridge\\nfrom sklearn.linear_model import LinearRegression'); }\n",
       "    "
      ],
      "text/plain": [
       "<IPython.core.display.Javascript object>"
      ]
     },
     "metadata": {},
     "output_type": "display_data"
    },
    {
     "data": {
      "application/javascript": [
       "\n",
       "        if (window._pyforest_update_imports_cell) { window._pyforest_update_imports_cell('from sklearn import metrics\\nfrom sklearn.ensemble import RandomForestRegressor\\nfrom sklearn.linear_model import Ridge\\nfrom sklearn.linear_model import LinearRegression'); }\n",
       "    "
      ],
      "text/plain": [
       "<IPython.core.display.Javascript object>"
      ]
     },
     "metadata": {},
     "output_type": "display_data"
    },
    {
     "data": {
      "application/javascript": [
       "\n",
       "        if (window._pyforest_update_imports_cell) { window._pyforest_update_imports_cell('from sklearn import metrics\\nfrom sklearn.ensemble import RandomForestRegressor\\nfrom sklearn.linear_model import Ridge\\nfrom sklearn.linear_model import LinearRegression'); }\n",
       "    "
      ],
      "text/plain": [
       "<IPython.core.display.Javascript object>"
      ]
     },
     "metadata": {},
     "output_type": "display_data"
    },
    {
     "data": {
      "application/javascript": [
       "\n",
       "        if (window._pyforest_update_imports_cell) { window._pyforest_update_imports_cell('from sklearn import metrics\\nfrom sklearn.ensemble import RandomForestRegressor\\nfrom sklearn.linear_model import Ridge\\nfrom sklearn.linear_model import LinearRegression'); }\n",
       "    "
      ],
      "text/plain": [
       "<IPython.core.display.Javascript object>"
      ]
     },
     "metadata": {},
     "output_type": "display_data"
    },
    {
     "data": {
      "application/javascript": [
       "\n",
       "        if (window._pyforest_update_imports_cell) { window._pyforest_update_imports_cell('from sklearn import metrics\\nfrom sklearn.ensemble import RandomForestRegressor\\nfrom sklearn.linear_model import Ridge\\nfrom sklearn.linear_model import LinearRegression'); }\n",
       "    "
      ],
      "text/plain": [
       "<IPython.core.display.Javascript object>"
      ]
     },
     "metadata": {},
     "output_type": "display_data"
    },
    {
     "data": {
      "application/javascript": [
       "\n",
       "        if (window._pyforest_update_imports_cell) { window._pyforest_update_imports_cell('from sklearn import metrics\\nfrom sklearn.ensemble import RandomForestRegressor\\nfrom sklearn.linear_model import Ridge\\nfrom sklearn.linear_model import LinearRegression'); }\n",
       "    "
      ],
      "text/plain": [
       "<IPython.core.display.Javascript object>"
      ]
     },
     "metadata": {},
     "output_type": "display_data"
    },
    {
     "data": {
      "application/javascript": [
       "\n",
       "        if (window._pyforest_update_imports_cell) { window._pyforest_update_imports_cell('from sklearn import metrics\\nfrom sklearn.ensemble import RandomForestRegressor\\nfrom sklearn.linear_model import Ridge\\nfrom sklearn.linear_model import LinearRegression'); }\n",
       "    "
      ],
      "text/plain": [
       "<IPython.core.display.Javascript object>"
      ]
     },
     "metadata": {},
     "output_type": "display_data"
    },
    {
     "data": {
      "application/javascript": [
       "\n",
       "        if (window._pyforest_update_imports_cell) { window._pyforest_update_imports_cell('from sklearn import metrics\\nfrom sklearn.ensemble import RandomForestRegressor\\nfrom sklearn.linear_model import Ridge\\nfrom sklearn.linear_model import LinearRegression'); }\n",
       "    "
      ],
      "text/plain": [
       "<IPython.core.display.Javascript object>"
      ]
     },
     "metadata": {},
     "output_type": "display_data"
    },
    {
     "data": {
      "application/javascript": [
       "\n",
       "        if (window._pyforest_update_imports_cell) { window._pyforest_update_imports_cell('from sklearn import metrics\\nfrom sklearn.ensemble import RandomForestRegressor\\nfrom sklearn.linear_model import Ridge\\nfrom sklearn.linear_model import LinearRegression'); }\n",
       "    "
      ],
      "text/plain": [
       "<IPython.core.display.Javascript object>"
      ]
     },
     "metadata": {},
     "output_type": "display_data"
    },
    {
     "data": {
      "application/javascript": [
       "\n",
       "        if (window._pyforest_update_imports_cell) { window._pyforest_update_imports_cell('from sklearn import metrics\\nfrom sklearn.ensemble import RandomForestRegressor\\nfrom sklearn.linear_model import Ridge\\nfrom sklearn.linear_model import LinearRegression'); }\n",
       "    "
      ],
      "text/plain": [
       "<IPython.core.display.Javascript object>"
      ]
     },
     "metadata": {},
     "output_type": "display_data"
    },
    {
     "data": {
      "application/javascript": [
       "\n",
       "        if (window._pyforest_update_imports_cell) { window._pyforest_update_imports_cell('from sklearn import metrics\\nfrom sklearn.ensemble import RandomForestRegressor\\nfrom sklearn.linear_model import Ridge\\nfrom sklearn.linear_model import LinearRegression'); }\n",
       "    "
      ],
      "text/plain": [
       "<IPython.core.display.Javascript object>"
      ]
     },
     "metadata": {},
     "output_type": "display_data"
    },
    {
     "data": {
      "application/javascript": [
       "\n",
       "        if (window._pyforest_update_imports_cell) { window._pyforest_update_imports_cell('from sklearn import metrics\\nfrom sklearn.ensemble import RandomForestRegressor\\nfrom sklearn.linear_model import Ridge\\nfrom sklearn.linear_model import LinearRegression'); }\n",
       "    "
      ],
      "text/plain": [
       "<IPython.core.display.Javascript object>"
      ]
     },
     "metadata": {},
     "output_type": "display_data"
    },
    {
     "data": {
      "application/javascript": [
       "\n",
       "        if (window._pyforest_update_imports_cell) { window._pyforest_update_imports_cell('from sklearn import metrics\\nfrom sklearn.ensemble import RandomForestRegressor\\nfrom sklearn.linear_model import Ridge\\nfrom sklearn.linear_model import LinearRegression'); }\n",
       "    "
      ],
      "text/plain": [
       "<IPython.core.display.Javascript object>"
      ]
     },
     "metadata": {},
     "output_type": "display_data"
    },
    {
     "data": {
      "application/javascript": [
       "\n",
       "        if (window._pyforest_update_imports_cell) { window._pyforest_update_imports_cell('from sklearn import metrics\\nfrom sklearn.ensemble import RandomForestRegressor\\nfrom sklearn.linear_model import Ridge\\nfrom sklearn.linear_model import LinearRegression'); }\n",
       "    "
      ],
      "text/plain": [
       "<IPython.core.display.Javascript object>"
      ]
     },
     "metadata": {},
     "output_type": "display_data"
    },
    {
     "data": {
      "application/javascript": [
       "\n",
       "        if (window._pyforest_update_imports_cell) { window._pyforest_update_imports_cell('from sklearn import metrics\\nfrom sklearn.ensemble import RandomForestRegressor\\nfrom sklearn.linear_model import Ridge\\nfrom sklearn.linear_model import LinearRegression'); }\n",
       "    "
      ],
      "text/plain": [
       "<IPython.core.display.Javascript object>"
      ]
     },
     "metadata": {},
     "output_type": "display_data"
    },
    {
     "data": {
      "application/javascript": [
       "\n",
       "        if (window._pyforest_update_imports_cell) { window._pyforest_update_imports_cell('from sklearn import metrics\\nfrom sklearn.ensemble import RandomForestRegressor\\nfrom sklearn.linear_model import Ridge\\nfrom sklearn.linear_model import LinearRegression'); }\n",
       "    "
      ],
      "text/plain": [
       "<IPython.core.display.Javascript object>"
      ]
     },
     "metadata": {},
     "output_type": "display_data"
    }
   ],
   "source": [
    "rf_scores_val = []\n",
    "\n",
    "for sample in [2, 3, 4, 5, 6]:\n",
    "    for s in [1, 5, 10, 15]:\n",
    "        rf = RandomForestRegressor(n_estimators=50,\n",
    "                                   criterion=\"mse\",\n",
    "                                   max_depth=25,\n",
    "                                   min_samples_split=sample,\n",
    "                                   min_samples_leaf=s,\n",
    "                                   random_state=None,\n",
    "                                   n_jobs=-1)\n",
    "        rf.fit(X_train, y_train)\n",
    "        y_pred = rf.predict(X_val)\n",
    "        rmse_val = np.sqrt(mean_squared_error(y_val, y_pred))\n",
    "        rf_scores_val.append((sample, s, rmse_val))"
   ]
  },
  {
   "cell_type": "code",
   "execution_count": 60,
   "id": "01a7e6d8",
   "metadata": {},
   "outputs": [
    {
     "data": {
      "text/html": [
       "<div>\n",
       "<style scoped>\n",
       "    .dataframe tbody tr th:only-of-type {\n",
       "        vertical-align: middle;\n",
       "    }\n",
       "\n",
       "    .dataframe tbody tr th {\n",
       "        vertical-align: top;\n",
       "    }\n",
       "\n",
       "    .dataframe thead tr th {\n",
       "        text-align: left;\n",
       "    }\n",
       "\n",
       "    .dataframe thead tr:last-of-type th {\n",
       "        text-align: right;\n",
       "    }\n",
       "</style>\n",
       "<table border=\"1\" class=\"dataframe\">\n",
       "  <thead>\n",
       "    <tr>\n",
       "      <th></th>\n",
       "      <th colspan=\"5\" halign=\"left\">rmse_val</th>\n",
       "    </tr>\n",
       "    <tr>\n",
       "      <th>min_samples_split</th>\n",
       "      <th>2</th>\n",
       "      <th>3</th>\n",
       "      <th>4</th>\n",
       "      <th>5</th>\n",
       "      <th>6</th>\n",
       "    </tr>\n",
       "    <tr>\n",
       "      <th>min_samples_leaf</th>\n",
       "      <th></th>\n",
       "      <th></th>\n",
       "      <th></th>\n",
       "      <th></th>\n",
       "      <th></th>\n",
       "    </tr>\n",
       "  </thead>\n",
       "  <tbody>\n",
       "    <tr>\n",
       "      <th>1</th>\n",
       "      <td>1.563</td>\n",
       "      <td>1.551</td>\n",
       "      <td>1.512</td>\n",
       "      <td>1.504</td>\n",
       "      <td>1.477</td>\n",
       "    </tr>\n",
       "    <tr>\n",
       "      <th>5</th>\n",
       "      <td>1.530</td>\n",
       "      <td>1.515</td>\n",
       "      <td>1.543</td>\n",
       "      <td>1.537</td>\n",
       "      <td>1.525</td>\n",
       "    </tr>\n",
       "    <tr>\n",
       "      <th>10</th>\n",
       "      <td>1.947</td>\n",
       "      <td>1.919</td>\n",
       "      <td>1.936</td>\n",
       "      <td>1.970</td>\n",
       "      <td>1.949</td>\n",
       "    </tr>\n",
       "    <tr>\n",
       "      <th>15</th>\n",
       "      <td>2.131</td>\n",
       "      <td>2.157</td>\n",
       "      <td>2.169</td>\n",
       "      <td>2.142</td>\n",
       "      <td>2.126</td>\n",
       "    </tr>\n",
       "  </tbody>\n",
       "</table>\n",
       "</div>"
      ],
      "text/plain": [
       "                  rmse_val                            \n",
       "min_samples_split        2      3      4      5      6\n",
       "min_samples_leaf                                      \n",
       "1                    1.563  1.551  1.512  1.504  1.477\n",
       "5                    1.530  1.515  1.543  1.537  1.525\n",
       "10                   1.947  1.919  1.936  1.970  1.949\n",
       "15                   2.131  2.157  2.169  2.142  2.126"
      ]
     },
     "execution_count": 60,
     "metadata": {},
     "output_type": "execute_result"
    }
   ],
   "source": [
    "columns = ['min_samples_split', 'min_samples_leaf', 'rmse_val']\n",
    "df_rf_scores = pd.DataFrame(rf_scores_val, columns=columns)\n",
    "\n",
    "df_rf_scores_pivot_val = df_rf_scores.pivot(index='min_samples_leaf',\n",
    "                                            columns=['min_samples_split'],\n",
    "                                            values=['rmse_val'])\n",
    "df_rf_scores_pivot_val.round(3)"
   ]
  },
  {
   "cell_type": "markdown",
   "id": "fc6dde91",
   "metadata": {},
   "source": [
    "The function criterion() is used to measure the quality of a split. Supported criteria are “mse” for the mean squared error, which is equal to variance reduction as feature selection criterion, and “mae” for the mean absolute error. Scores are evaluated based on the mean squared error between your prediction and the actual values, so we use criterion=\"mse\".\n",
    "\n"
   ]
  },
  {
   "cell_type": "code",
   "execution_count": 61,
   "id": "3eaaf503",
   "metadata": {},
   "outputs": [
    {
     "data": {
      "application/javascript": [
       "\n",
       "        if (window._pyforest_update_imports_cell) { window._pyforest_update_imports_cell('from sklearn import metrics\\nfrom sklearn.ensemble import RandomForestRegressor\\nfrom sklearn.linear_model import Ridge\\nfrom sklearn.linear_model import LinearRegression'); }\n",
       "    "
      ],
      "text/plain": [
       "<IPython.core.display.Javascript object>"
      ]
     },
     "metadata": {},
     "output_type": "display_data"
    },
    {
     "data": {
      "text/plain": [
       "RandomForestRegressor(criterion='mse', max_depth=25, n_estimators=50, n_jobs=-1)"
      ]
     },
     "execution_count": 61,
     "metadata": {},
     "output_type": "execute_result"
    }
   ],
   "source": [
    "#@ TRAINING RANDOM FOREST MODEL:\n",
    "rf = RandomForestRegressor(n_estimators=50,\n",
    "                           criterion=\"mse\",\n",
    "                           max_depth=25,\n",
    "                           min_samples_leaf=1,\n",
    "                           min_samples_split=2,\n",
    "                           n_jobs=-1,\n",
    "                           random_state=None)\n",
    "\n",
    "rf.fit(X_train, y_train)"
   ]
  },
  {
   "cell_type": "code",
   "execution_count": 62,
   "id": "68f61c03",
   "metadata": {},
   "outputs": [
    {
     "name": "stdout",
     "output_type": "stream",
     "text": [
      "r2 score validation : 0.9759\n",
      "adjusted r2 score validation : 0.9746\n"
     ]
    },
    {
     "data": {
      "application/javascript": [
       "\n",
       "        if (window._pyforest_update_imports_cell) { window._pyforest_update_imports_cell('from sklearn import metrics\\nfrom sklearn.ensemble import RandomForestRegressor\\nfrom sklearn.linear_model import Ridge\\nfrom sklearn.linear_model import LinearRegression'); }\n",
       "    "
      ],
      "text/plain": [
       "<IPython.core.display.Javascript object>"
      ]
     },
     "metadata": {},
     "output_type": "display_data"
    },
    {
     "name": "stdout",
     "output_type": "stream",
     "text": [
      "MAE validation : 0.7976\n",
      "MSE validation : 2.3415\n",
      "RMSE validation : 1.5302\n"
     ]
    }
   ],
   "source": [
    "y_pred = rf.predict(X_val)\n",
    "\n",
    "r2_score_val = r2_score(y_val, y_pred)\n",
    "print(f'r2 score validation : {r2_score_val:.4f}')\n",
    "adj_r2_score_val = 1 - (1 - r2_score(y_val, y_pred)) * (len(y_val) - 1) / (\n",
    "    len(y_val) - X_val.shape[1] - 1)\n",
    "print(f'adjusted r2 score validation : {adj_r2_score_val:.4f}')\n",
    "mae_val = metrics.mean_absolute_error(y_val, y_pred)\n",
    "print(f'MAE validation : {mae_val:.4f}')\n",
    "mse_val = mean_squared_error(y_val, y_pred)\n",
    "print(f'MSE validation : {mse_val:.4f}')\n",
    "rmse_val = np.sqrt(mean_squared_error(y_val, y_pred))\n",
    "print(f'RMSE validation : {rmse_val:.4f}')"
   ]
  },
  {
   "cell_type": "markdown",
   "id": "34fd8df1",
   "metadata": {},
   "source": [
    "We managed to get a better RMSE from the base model.\n",
    "\n",
    "One could also experiment with\n",
    "\n",
    "bootstrap ,max_features"
   ]
  },
  {
   "cell_type": "markdown",
   "id": "7f064807",
   "metadata": {},
   "source": [
    "# Feature importance"
   ]
  },
  {
   "cell_type": "markdown",
   "id": "63dd50cf",
   "metadata": {},
   "source": [
    "We'll find the most important feature with these parametes:\n",
    "1. n_estimators=50,\n",
    "2. max_depth=25,\n",
    "3. random_state=1,\n",
    "4. min_samples_leaf=1,\n",
    "5. min_samples_split=2,\n",
    "6. n_jobs=-1 (optional)"
   ]
  },
  {
   "cell_type": "code",
   "execution_count": 63,
   "id": "3ee36770",
   "metadata": {},
   "outputs": [
    {
     "data": {
      "text/plain": [
       "array([0.06739494, 0.01709879, 0.0048953 , 0.14322034, 0.64422881,\n",
       "       0.00164302, 0.08041089, 0.04110791])"
      ]
     },
     "execution_count": 63,
     "metadata": {},
     "output_type": "execute_result"
    }
   ],
   "source": [
    "rf.feature_importances_"
   ]
  },
  {
   "cell_type": "code",
   "execution_count": 64,
   "id": "c3e6fa29",
   "metadata": {},
   "outputs": [
    {
     "data": {
      "text/html": [
       "<div>\n",
       "<style scoped>\n",
       "    .dataframe tbody tr th:only-of-type {\n",
       "        vertical-align: middle;\n",
       "    }\n",
       "\n",
       "    .dataframe tbody tr th {\n",
       "        vertical-align: top;\n",
       "    }\n",
       "\n",
       "    .dataframe thead th {\n",
       "        text-align: right;\n",
       "    }\n",
       "</style>\n",
       "<table border=\"1\" class=\"dataframe\">\n",
       "  <thead>\n",
       "    <tr style=\"text-align: right;\">\n",
       "      <th></th>\n",
       "      <th>feature</th>\n",
       "      <th>importance</th>\n",
       "    </tr>\n",
       "  </thead>\n",
       "  <tbody>\n",
       "    <tr>\n",
       "      <th>4</th>\n",
       "      <td>relative_compactness</td>\n",
       "      <td>0.644229</td>\n",
       "    </tr>\n",
       "    <tr>\n",
       "      <th>3</th>\n",
       "      <td>overall_height</td>\n",
       "      <td>0.143220</td>\n",
       "    </tr>\n",
       "    <tr>\n",
       "      <th>6</th>\n",
       "      <td>surface_area</td>\n",
       "      <td>0.080411</td>\n",
       "    </tr>\n",
       "    <tr>\n",
       "      <th>0</th>\n",
       "      <td>glazing_area</td>\n",
       "      <td>0.067395</td>\n",
       "    </tr>\n",
       "    <tr>\n",
       "      <th>7</th>\n",
       "      <td>wall_area</td>\n",
       "      <td>0.041108</td>\n",
       "    </tr>\n",
       "  </tbody>\n",
       "</table>\n",
       "</div>"
      ],
      "text/plain": [
       "                feature  importance\n",
       "4  relative_compactness    0.644229\n",
       "3        overall_height    0.143220\n",
       "6          surface_area    0.080411\n",
       "0          glazing_area    0.067395\n",
       "7             wall_area    0.041108"
      ]
     },
     "execution_count": 64,
     "metadata": {},
     "output_type": "execute_result"
    }
   ],
   "source": [
    "df_importances = pd.DataFrame()\n",
    "df_importances['feature'] = dv.get_feature_names()\n",
    "df_importances['importance'] = rf.feature_importances_\n",
    "df_importances.sort_values(by='importance', ascending=False).head()"
   ]
  },
  {
   "cell_type": "markdown",
   "id": "1b8b70fe",
   "metadata": {},
   "source": [
    "So relative_compactness and overall_height seem important for this model."
   ]
  },
  {
   "cell_type": "markdown",
   "id": "359d8cbc",
   "metadata": {},
   "source": [
    "# Xgboost"
   ]
  },
  {
   "cell_type": "code",
   "execution_count": 65,
   "id": "5be662a5",
   "metadata": {},
   "outputs": [],
   "source": [
    "import xgboost as xgb"
   ]
  },
  {
   "cell_type": "code",
   "execution_count": 66,
   "id": "7d05e867",
   "metadata": {},
   "outputs": [
    {
     "data": {
      "application/javascript": [
       "\n",
       "        if (window._pyforest_update_imports_cell) { window._pyforest_update_imports_cell('from sklearn.ensemble import RandomForestRegressor\\nimport re\\nfrom sklearn.linear_model import LinearRegression\\nfrom sklearn import metrics\\nfrom sklearn.linear_model import Ridge'); }\n",
       "    "
      ],
      "text/plain": [
       "<IPython.core.display.Javascript object>"
      ]
     },
     "metadata": {},
     "output_type": "display_data"
    },
    {
     "data": {
      "application/javascript": [
       "\n",
       "        if (window._pyforest_update_imports_cell) { window._pyforest_update_imports_cell('from sklearn.ensemble import RandomForestRegressor\\nimport re\\nfrom sklearn.linear_model import LinearRegression\\nfrom sklearn import metrics\\nfrom sklearn.linear_model import Ridge'); }\n",
       "    "
      ],
      "text/plain": [
       "<IPython.core.display.Javascript object>"
      ]
     },
     "metadata": {},
     "output_type": "display_data"
    }
   ],
   "source": [
    "#@ CREATING THE DMARTIX:\n",
    "features = dv.feature_names_\n",
    "# features = dv.get_feature_names()\n",
    "\n",
    "regex = re.compile(r\"<\", re.IGNORECASE)\n",
    "features = [\n",
    "    regex.sub(\"_\", col) if any(x in str(col)\n",
    "                               for x in set(('[', ']', '<'))) else col\n",
    "    for col in features\n",
    "]\n",
    "\n",
    "dtrain = xgb.DMatrix(X_train, label=y_train, feature_names=features)\n",
    "dval = xgb.DMatrix(X_val, label=y_val, feature_names=features)"
   ]
  },
  {
   "cell_type": "code",
   "execution_count": 67,
   "id": "8817c187",
   "metadata": {},
   "outputs": [],
   "source": [
    "watchlist = [(dtrain, 'train'), (dval, 'val')]"
   ]
  },
  {
   "cell_type": "markdown",
   "id": "8ae5518e",
   "metadata": {},
   "source": [
    "Tuning the following parameters:\n",
    "\n",
    "1. eta\n",
    "2. max_depth\n",
    "3. min_child_weight"
   ]
  },
  {
   "cell_type": "code",
   "execution_count": 68,
   "id": "17902ded",
   "metadata": {},
   "outputs": [
    {
     "name": "stdout",
     "output_type": "stream",
     "text": [
      "for eta=0.1 rmse= 1.2870620449733714, r2 score validation : 0.9830059841931298\n",
      "for eta=0.3 rmse= 1.1309162281902845, r2 score validation : 0.9868961316530837\n",
      "for eta=0.01 rmse= 9.99184183482002, r2 score validation : 0.016996321924374058\n"
     ]
    }
   ],
   "source": [
    "scores = []\n",
    "for eta in [0.1, 0.3, 0.01]:\n",
    "    xgb_params = {\n",
    "        'eta': eta,\n",
    "        'max_depth': 3,\n",
    "        'min_child_weight': 1,\n",
    "        'objective': 'reg:squarederror',\n",
    "        'nthread': 8,\n",
    "        'verbosity': 1,\n",
    "    }\n",
    "\n",
    "    model = xgb.train(xgb_params, dtrain, num_boost_round=100)\n",
    "    y_pred = model.predict(dval)\n",
    "    rmse = np.sqrt(mean_squared_error(y_val, y_pred))\n",
    "    r2_score_val = r2_score(y_val, y_pred)\n",
    "    scores.append((eta, rmse))\n",
    "    print(f\"for eta={eta} rmse= {rmse}, r2 score validation : {r2_score_val}\")"
   ]
  },
  {
   "cell_type": "code",
   "execution_count": 69,
   "id": "9a70d167",
   "metadata": {},
   "outputs": [
    {
     "name": "stdout",
     "output_type": "stream",
     "text": [
      "for eta=0.1 rmse= 0.9330648460423903, r2 score validation : 0.9911183268468915\n",
      "for eta=0.3 rmse= 0.8470871657592324, r2 score validation : 0.9927151641559491\n",
      "for eta=0.01 rmse= 4.103634226137902, r2 score validation : 0.8336672139048964\n"
     ]
    }
   ],
   "source": [
    "scores = []\n",
    "for eta in [0.1, 0.3, 0.01]:\n",
    "    xgb_params = {\n",
    "        'min_child_weight': 2,\n",
    "        'max_depth': 5,\n",
    "        'eta': eta,\n",
    "        'booster': 'gbtree',\n",
    "        'base_score': 0.75,\n",
    "        'objective': 'reg:squarederror',\n",
    "        'nthread': 8,\n",
    "        'verbosity': 1,\n",
    "    }\n",
    "\n",
    "    model = xgb.train(xgb_params, dtrain, num_boost_round=200)\n",
    "    y_pred = model.predict(dval)\n",
    "    rmse_xgb = np.sqrt(mean_squared_error(y_val, y_pred))\n",
    "    r2_score_val_xgb = r2_score(y_val, y_pred)\n",
    "    scores.append((eta, rmse_xgb))\n",
    "    print(f\"for eta={eta} rmse= {rmse_xgb}, r2 score validation : {r2_score_val_xgb}\")"
   ]
  },
  {
   "cell_type": "markdown",
   "id": "a8b70bca",
   "metadata": {},
   "source": [
    "We select eta = 0.3 with the lowest rmse."
   ]
  },
  {
   "cell_type": "code",
   "execution_count": 70,
   "id": "40cbbe7f",
   "metadata": {},
   "outputs": [
    {
     "name": "stdout",
     "output_type": "stream",
     "text": [
      "for eta=0.01 rmse= 4.103634226137902, r2 score validation : 0.8336672139048964\n"
     ]
    }
   ],
   "source": [
    "ta = 0.3\n",
    "xgb_params = {\n",
    "    'min_child_weight': 2,\n",
    "    'max_depth': 5,\n",
    "    'eta': eta,\n",
    "    'booster': 'gbtree',\n",
    "    'base_score': 0.75,\n",
    "    'objective': 'reg:squarederror',\n",
    "    'nthread': 8,\n",
    "    'verbosity': 1,\n",
    "}\n",
    "model = xgb.train(xgb_params, dtrain, num_boost_round=200)\n",
    "y_pred = model.predict(dval)\n",
    "rmse_xgb = np.sqrt(mean_squared_error(y_val, y_pred))\n",
    "r2_score_val_xgb = r2_score(y_val, y_pred)\n",
    "scores.append((eta, rmse_xgb))\n",
    "print(f\"for eta={eta} rmse= {rmse_xgb}, r2 score validation : {r2_score_val_xgb}\")"
   ]
  },
  {
   "cell_type": "code",
   "execution_count": 71,
   "id": "3e9283a0",
   "metadata": {},
   "outputs": [
    {
     "data": {
      "application/javascript": [
       "\n",
       "        if (window._pyforest_update_imports_cell) { window._pyforest_update_imports_cell('from sklearn.ensemble import RandomForestRegressor\\nimport re\\nfrom sklearn.linear_model import LinearRegression\\nfrom sklearn import metrics\\nfrom sklearn.linear_model import Ridge'); }\n",
       "    "
      ],
      "text/plain": [
       "<IPython.core.display.Javascript object>"
      ]
     },
     "metadata": {},
     "output_type": "display_data"
    },
    {
     "data": {
      "application/javascript": [
       "\n",
       "        if (window._pyforest_update_imports_cell) { window._pyforest_update_imports_cell('from sklearn.ensemble import RandomForestRegressor\\nimport re\\nfrom sklearn.linear_model import LinearRegression\\nfrom sklearn import metrics\\nfrom sklearn.linear_model import Ridge'); }\n",
       "    "
      ],
      "text/plain": [
       "<IPython.core.display.Javascript object>"
      ]
     },
     "metadata": {},
     "output_type": "display_data"
    },
    {
     "data": {
      "application/javascript": [
       "\n",
       "        if (window._pyforest_update_imports_cell) { window._pyforest_update_imports_cell('from sklearn.ensemble import RandomForestRegressor\\nimport re\\nfrom sklearn.linear_model import LinearRegression\\nfrom sklearn import metrics\\nfrom sklearn.linear_model import Ridge'); }\n",
       "    "
      ],
      "text/plain": [
       "<IPython.core.display.Javascript object>"
      ]
     },
     "metadata": {},
     "output_type": "display_data"
    }
   ],
   "source": [
    "models_name = [\n",
    "    \"Linear Regression\", \"Ridge Regression\", \"Decision Tree Regressor\",\n",
    "    \"Random Forest Regressor\"\n",
    "]\n",
    "models = [\n",
    "    LinearRegression(),\n",
    "    Ridge(alpha=0.01, random_state=None),\n",
    "    DecisionTreeRegressor(max_depth=6,\n",
    "                          min_samples_leaf=5,\n",
    "                          min_samples_split=4,\n",
    "                          random_state=None),\n",
    "    RandomForestRegressor(n_estimators=50,\n",
    "                          criterion=\"mse\",\n",
    "                          max_depth=25,\n",
    "                          min_samples_leaf=1,\n",
    "                          min_samples_split=2,\n",
    "                          n_jobs=-1,\n",
    "                          random_state=None)\n",
    "]"
   ]
  },
  {
   "cell_type": "code",
   "execution_count": 72,
   "id": "0720a85e",
   "metadata": {},
   "outputs": [
    {
     "data": {
      "application/vnd.jupyter.widget-view+json": {
       "model_id": "217c2a933a2040e2b57a25c098f548c3",
       "version_major": 2,
       "version_minor": 0
      },
      "text/plain": [
       "  0%|          | 0/4 [00:00<?, ?it/s]"
      ]
     },
     "metadata": {},
     "output_type": "display_data"
    }
   ],
   "source": [
    "results = []\n",
    "for i in tqdm(range(len(models_name))):\n",
    "    model = models[i].fit(X_train, y_train)\n",
    "    y_pred = model.predict(X_val)\n",
    "    rmse = np.sqrt(mean_squared_error(y_val, y_pred))\n",
    "    results.append((models_name[i], rmse))\n",
    "results_df = pd.DataFrame(results, columns=[\"models\", \"rmse\"])"
   ]
  },
  {
   "cell_type": "code",
   "execution_count": 73,
   "id": "0f89fd0f",
   "metadata": {},
   "outputs": [
    {
     "data": {
      "text/html": [
       "<div>\n",
       "<style scoped>\n",
       "    .dataframe tbody tr th:only-of-type {\n",
       "        vertical-align: middle;\n",
       "    }\n",
       "\n",
       "    .dataframe tbody tr th {\n",
       "        vertical-align: top;\n",
       "    }\n",
       "\n",
       "    .dataframe thead th {\n",
       "        text-align: right;\n",
       "    }\n",
       "</style>\n",
       "<table border=\"1\" class=\"dataframe\">\n",
       "  <thead>\n",
       "    <tr style=\"text-align: right;\">\n",
       "      <th></th>\n",
       "      <th>models</th>\n",
       "      <th>rmse</th>\n",
       "    </tr>\n",
       "  </thead>\n",
       "  <tbody>\n",
       "    <tr>\n",
       "      <th>3</th>\n",
       "      <td>Random Forest Regressor</td>\n",
       "      <td>1.499912</td>\n",
       "    </tr>\n",
       "    <tr>\n",
       "      <th>2</th>\n",
       "      <td>Decision Tree Regressor</td>\n",
       "      <td>1.560513</td>\n",
       "    </tr>\n",
       "    <tr>\n",
       "      <th>0</th>\n",
       "      <td>Linear Regression</td>\n",
       "      <td>3.249681</td>\n",
       "    </tr>\n",
       "    <tr>\n",
       "      <th>1</th>\n",
       "      <td>Ridge Regression</td>\n",
       "      <td>3.255861</td>\n",
       "    </tr>\n",
       "    <tr>\n",
       "      <th>4</th>\n",
       "      <td>XGBoost Regressor</td>\n",
       "      <td>4.103634</td>\n",
       "    </tr>\n",
       "  </tbody>\n",
       "</table>\n",
       "</div>"
      ],
      "text/plain": [
       "                    models      rmse\n",
       "3  Random Forest Regressor  1.499912\n",
       "2  Decision Tree Regressor  1.560513\n",
       "0        Linear Regression  3.249681\n",
       "1         Ridge Regression  3.255861\n",
       "4        XGBoost Regressor  4.103634"
      ]
     },
     "execution_count": 73,
     "metadata": {},
     "output_type": "execute_result"
    }
   ],
   "source": [
    "xgb_result = {'models': \"XGBoost Regressor\", \"rmse\": rmse_xgb} \n",
    "results_df = results_df.append(xgb_result, ignore_index=True)\n",
    "results_df.sort_values(by=\"rmse\", inplace=True)\n",
    "results_df"
   ]
  },
  {
   "cell_type": "markdown",
   "id": "f7989bd7",
   "metadata": {},
   "source": [
    "# Final model"
   ]
  },
  {
   "cell_type": "markdown",
   "id": "a2adde5f",
   "metadata": {},
   "source": [
    "We select for our final model the xgboost one and train for the full set."
   ]
  },
  {
   "cell_type": "code",
   "execution_count": 74,
   "id": "0ab919de",
   "metadata": {},
   "outputs": [],
   "source": [
    "df_full_train = df_full_train.reset_index(drop=True)\n",
    "y_full_train = df_full_train[['heating_load', 'cooling_load']].values"
   ]
  },
  {
   "cell_type": "code",
   "execution_count": 75,
   "id": "981d08f9",
   "metadata": {},
   "outputs": [],
   "source": [
    "del df_full_train['heating_load']\n",
    "del df_full_train['cooling_load']"
   ]
  },
  {
   "cell_type": "code",
   "execution_count": 76,
   "id": "898b23e7",
   "metadata": {},
   "outputs": [],
   "source": [
    "dicts_full_train = df_full_train.to_dict(orient='records')\n",
    "\n",
    "dv = DictVectorizer(sparse=False)\n",
    "X_full_train = dv.fit_transform(dicts_full_train)\n",
    "\n",
    "dicts_test = df_test.to_dict(orient='records')\n",
    "X_test = dv.transform(dicts_test)"
   ]
  },
  {
   "cell_type": "code",
   "execution_count": 77,
   "id": "fbba2d6a",
   "metadata": {},
   "outputs": [],
   "source": [
    "features = dv.feature_names_\n",
    "dfulltrain = xgb.DMatrix(X_full_train,\n",
    "                         label=y_full_train,\n",
    "                         feature_names=features)\n",
    "\n",
    "dtest = xgb.DMatrix(X_test, feature_names=features)"
   ]
  },
  {
   "cell_type": "code",
   "execution_count": 78,
   "id": "a36bc456",
   "metadata": {},
   "outputs": [
    {
     "name": "stdout",
     "output_type": "stream",
     "text": [
      "for eta=0.3 rmse= 0.5186408103267065, r2 score test : 0.9971609622030928\n"
     ]
    }
   ],
   "source": [
    "eta = 0.3\n",
    "xgb_params = {\n",
    "    'min_child_weight': 2,\n",
    "    'max_depth': 5,\n",
    "    'eta': eta,\n",
    "    'booster': 'gbtree',\n",
    "    'base_score': 0.75,\n",
    "    'objective': 'reg:squarederror',\n",
    "    'nthread': 8,\n",
    "    'verbosity': 1,\n",
    "}\n",
    "\n",
    "model = xgb.train(xgb_params, dfulltrain, num_boost_round=200)\n",
    "y_pred = model.predict(dtest)\n",
    "rmse_final = np.sqrt(mean_squared_error(y_test, y_pred))\n",
    "r2_score_final = r2_score(y_test, y_pred)\n",
    "print(f\"for eta={eta} rmse= {rmse_final}, r2 score test : {r2_score_final}\")"
   ]
  }
 ],
 "metadata": {
  "kernelspec": {
   "display_name": "Python 3 (ipykernel)",
   "language": "python",
   "name": "python3"
  },
  "language_info": {
   "codemirror_mode": {
    "name": "ipython",
    "version": 3
   },
   "file_extension": ".py",
   "mimetype": "text/x-python",
   "name": "python",
   "nbconvert_exporter": "python",
   "pygments_lexer": "ipython3",
   "version": "3.9.12"
  }
 },
 "nbformat": 4,
 "nbformat_minor": 5
}
